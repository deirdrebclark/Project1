{
 "cells": [
  {
   "cell_type": "code",
   "execution_count": 1,
   "metadata": {},
   "outputs": [],
   "source": [
    "#Add dependencies\n",
    "import pandas as pd\n",
    "import numpy as np\n"
   ]
  },
  {
   "cell_type": "code",
   "execution_count": 2,
   "metadata": {},
   "outputs": [],
   "source": [
    "#Pull in data from the state's EPA files on the laws and regulations per state\n",
    "ak_df = pd.read_csv('Resources/AK_SUPP_INTEREST_FILE.CSV') # Alaska\n",
    "ca_df = pd.read_csv('Resources/CA_SUPP_INTEREST_FILE.CSV') # California\n",
    "hi_df = pd.read_csv('Resources/HI_SUPP_INTEREST_FILE.CSV') # Hawaii\n",
    "or_df = pd.read_csv('Resources/OR_SUPP_INTEREST_FILE.CSV') # Oregon\n",
    "wa_df = pd.read_csv('Resources/WA_SUPP_INTEREST_FILE.CSV') # Washington\n"
   ]
  },
  {
   "cell_type": "code",
   "execution_count": 5,
   "metadata": {},
   "outputs": [
    {
     "data": {
      "text/html": [
       "<div>\n",
       "<style scoped>\n",
       "    .dataframe tbody tr th:only-of-type {\n",
       "        vertical-align: middle;\n",
       "    }\n",
       "\n",
       "    .dataframe tbody tr th {\n",
       "        vertical-align: top;\n",
       "    }\n",
       "\n",
       "    .dataframe thead th {\n",
       "        text-align: right;\n",
       "    }\n",
       "</style>\n",
       "<table border=\"1\" class=\"dataframe\">\n",
       "  <thead>\n",
       "    <tr style=\"text-align: right;\">\n",
       "      <th></th>\n",
       "      <th>INTEREST_TYPE</th>\n",
       "      <th>SUP_INTEREST_TYPE</th>\n",
       "      <th>START_DATE</th>\n",
       "      <th>START_YEAR</th>\n",
       "    </tr>\n",
       "  </thead>\n",
       "  <tbody>\n",
       "    <tr>\n",
       "      <th>0</th>\n",
       "      <td>STATE MASTER</td>\n",
       "      <td>HAZARDOUS WASTE PROGRAM</td>\n",
       "      <td>NaN</td>\n",
       "      <td>1900</td>\n",
       "    </tr>\n",
       "    <tr>\n",
       "      <th>1</th>\n",
       "      <td>STATE MASTER</td>\n",
       "      <td>TRI REPORTER</td>\n",
       "      <td>29-JUN-0009 00:00:00</td>\n",
       "      <td>2009</td>\n",
       "    </tr>\n",
       "    <tr>\n",
       "      <th>2</th>\n",
       "      <td>FORMAL ENFORCEMENT ACTION</td>\n",
       "      <td>FORMAL ENFORCEMENT ACTION</td>\n",
       "      <td>9/29/2000</td>\n",
       "      <td>2000</td>\n",
       "    </tr>\n",
       "    <tr>\n",
       "      <th>3</th>\n",
       "      <td>STATE MASTER</td>\n",
       "      <td>SUPERFUND</td>\n",
       "      <td>06-MAY-0005 00:00:00</td>\n",
       "      <td>2005</td>\n",
       "    </tr>\n",
       "    <tr>\n",
       "      <th>4</th>\n",
       "      <td>STATE MASTER</td>\n",
       "      <td>LEAKING STORAGE TANK</td>\n",
       "      <td>14-DEC-0006 00:00:00</td>\n",
       "      <td>2006</td>\n",
       "    </tr>\n",
       "  </tbody>\n",
       "</table>\n",
       "</div>"
      ],
      "text/plain": [
       "               INTEREST_TYPE          SUP_INTEREST_TYPE            START_DATE  \\\n",
       "0               STATE MASTER    HAZARDOUS WASTE PROGRAM                   NaN   \n",
       "1               STATE MASTER               TRI REPORTER  29-JUN-0009 00:00:00   \n",
       "2  FORMAL ENFORCEMENT ACTION  FORMAL ENFORCEMENT ACTION             9/29/2000   \n",
       "3               STATE MASTER                  SUPERFUND  06-MAY-0005 00:00:00   \n",
       "4               STATE MASTER       LEAKING STORAGE TANK  14-DEC-0006 00:00:00   \n",
       "\n",
       "   START_YEAR  \n",
       "0        1900  \n",
       "1        2009  \n",
       "2        2000  \n",
       "3        2005  \n",
       "4        2006  "
      ]
     },
     "execution_count": 5,
     "metadata": {},
     "output_type": "execute_result"
    }
   ],
   "source": [
    "#Pull the relevant columns for each state \n",
    "ak_df = ak_df.reindex(['INTEREST_TYPE', 'SUP_INTEREST_TYPE', 'START_YEAR'], axis = 'columns')\n",
    "ca_df = ca_df.reindex(['INTEREST_TYPE', 'SUP_INTEREST_TYPE', 'START_YEAR'], axis = 'columns')\n",
    "hi_df = hi_df.reindex(['INTEREST_TYPE', 'SUP_INTEREST_TYPE', 'START_YEAR'], axis = 'columns')\n",
    "or_df = or_df.reindex(['INTEREST_TYPE', 'SUP_INTEREST_TYPE', 'START_YEAR'], axis = 'columns')\n",
    "wa_df = wa_df.reindex(['INTEREST_TYPE', 'SUP_INTEREST_TYPE', 'START_YEAR'], axis = 'columns')\n"
   ]
  },
  {
   "cell_type": "code",
   "execution_count": 6,
   "metadata": {},
   "outputs": [],
   "source": [
    "#Add state column\n",
    "ak_df.insert(0,'STATE','AK')\n",
    "ca_df.insert(0,'STATE','CA')\n",
    "hi_df.insert(0,'STATE','HI')\n",
    "or_df.insert(0,'STATE','OR')\n",
    "wa_df.insert(0,'STATE','WA')"
   ]
  },
  {
   "cell_type": "code",
   "execution_count": 9,
   "metadata": {},
   "outputs": [
    {
     "data": {
      "text/html": [
       "<div>\n",
       "<style scoped>\n",
       "    .dataframe tbody tr th:only-of-type {\n",
       "        vertical-align: middle;\n",
       "    }\n",
       "\n",
       "    .dataframe tbody tr th {\n",
       "        vertical-align: top;\n",
       "    }\n",
       "\n",
       "    .dataframe thead th {\n",
       "        text-align: right;\n",
       "    }\n",
       "</style>\n",
       "<table border=\"1\" class=\"dataframe\">\n",
       "  <thead>\n",
       "    <tr style=\"text-align: right;\">\n",
       "      <th></th>\n",
       "      <th>STATE</th>\n",
       "      <th>INTEREST_TYPE</th>\n",
       "      <th>SUP_INTEREST_TYPE</th>\n",
       "      <th>START_DATE</th>\n",
       "      <th>START_YEAR</th>\n",
       "    </tr>\n",
       "  </thead>\n",
       "  <tbody>\n",
       "    <tr>\n",
       "      <th>0</th>\n",
       "      <td>CA</td>\n",
       "      <td>STATE MASTER</td>\n",
       "      <td>TRI REPORTER</td>\n",
       "      <td>29-JUN-0009 00:00:00</td>\n",
       "      <td>2009.0</td>\n",
       "    </tr>\n",
       "    <tr>\n",
       "      <th>1</th>\n",
       "      <td>CA</td>\n",
       "      <td>FORMAL ENFORCEMENT ACTION</td>\n",
       "      <td>FORMAL ENFORCEMENT ACTION</td>\n",
       "      <td>9/29/2000</td>\n",
       "      <td>2000.0</td>\n",
       "    </tr>\n",
       "    <tr>\n",
       "      <th>2</th>\n",
       "      <td>CA</td>\n",
       "      <td>STATE MASTER</td>\n",
       "      <td>SUPERFUND</td>\n",
       "      <td>06-MAY-0005 00:00:00</td>\n",
       "      <td>2005.0</td>\n",
       "    </tr>\n",
       "    <tr>\n",
       "      <th>3</th>\n",
       "      <td>CA</td>\n",
       "      <td>STATE MASTER</td>\n",
       "      <td>LEAKING STORAGE TANK</td>\n",
       "      <td>14-DEC-0006 00:00:00</td>\n",
       "      <td>2006.0</td>\n",
       "    </tr>\n",
       "    <tr>\n",
       "      <th>4</th>\n",
       "      <td>CA</td>\n",
       "      <td>FORMAL ENFORCEMENT ACTION</td>\n",
       "      <td>FORMAL ENFORCEMENT ACTION</td>\n",
       "      <td>9/26/2000</td>\n",
       "      <td>2000.0</td>\n",
       "    </tr>\n",
       "  </tbody>\n",
       "</table>\n",
       "</div>"
      ],
      "text/plain": [
       "  STATE              INTEREST_TYPE          SUP_INTEREST_TYPE  \\\n",
       "0    CA               STATE MASTER               TRI REPORTER   \n",
       "1    CA  FORMAL ENFORCEMENT ACTION  FORMAL ENFORCEMENT ACTION   \n",
       "2    CA               STATE MASTER                  SUPERFUND   \n",
       "3    CA               STATE MASTER       LEAKING STORAGE TANK   \n",
       "4    CA  FORMAL ENFORCEMENT ACTION  FORMAL ENFORCEMENT ACTION   \n",
       "\n",
       "             START_DATE  START_YEAR  \n",
       "0  29-JUN-0009 00:00:00      2009.0  \n",
       "1             9/29/2000      2000.0  \n",
       "2  06-MAY-0005 00:00:00      2005.0  \n",
       "3  14-DEC-0006 00:00:00      2006.0  \n",
       "4             9/26/2000      2000.0  "
      ]
     },
     "execution_count": 9,
     "metadata": {},
     "output_type": "execute_result"
    }
   ],
   "source": [
    "#Append data frames\n",
    "west_coast_df = ak_df.append(ca_df, ignore_index = True)\n",
    "west_coast_df = west_coast_df.append(hi_df, ignore_index = True)\n",
    "west_coast_df = west_coast_df.append(or_df, ignore_index = True)\n",
    "west_coast_df = west_coast_df.append(wa_df, ignore_index = True)\n",
    "west_coast_df.head()"
   ]
  },
  {
   "cell_type": "code",
   "execution_count": 7,
   "metadata": {},
   "outputs": [],
   "source": [
    "#Drop the rows missing values\n",
    "west_coast_df = west_coast_df.dropna()\n",
    "\n",
    "#Drop the rows that pertain to 'Air Pollution'\n",
    "west_coast_df = west_coast_df[~west_coast_df['INTEREST_TYPE'].str.contains('AIR')]\n",
    "west_coast_df = west_coast_df[~west_coast_df['SUP_INTEREST_TYPE'].str.contains('AIR|REMEDIATION|FUNDING')]\n",
    "\n",
    "#Remove spaces from all columns\n",
    "west_coast_df.columns = west_coast_df.columns.str.replace(' ', '')\n",
    "\n",
    "#Remove decimals in dataframes\n",
    "pd.set_option('precision', 0)"
   ]
  },
  {
   "cell_type": "code",
   "execution_count": 26,
   "metadata": {},
   "outputs": [
    {
     "data": {
      "text/html": [
       "<div>\n",
       "<style scoped>\n",
       "    .dataframe tbody tr th:only-of-type {\n",
       "        vertical-align: middle;\n",
       "    }\n",
       "\n",
       "    .dataframe tbody tr th {\n",
       "        vertical-align: top;\n",
       "    }\n",
       "\n",
       "    .dataframe thead th {\n",
       "        text-align: right;\n",
       "    }\n",
       "</style>\n",
       "<table border=\"1\" class=\"dataframe\">\n",
       "  <thead>\n",
       "    <tr style=\"text-align: right;\">\n",
       "      <th></th>\n",
       "      <th>STATE</th>\n",
       "      <th>START_YEAR</th>\n",
       "      <th>INTEREST_TYPE</th>\n",
       "      <th>SUP_INTEREST_TYPE</th>\n",
       "      <th>START_DATE</th>\n",
       "    </tr>\n",
       "  </thead>\n",
       "  <tbody>\n",
       "    <tr>\n",
       "      <th>41</th>\n",
       "      <td>CA</td>\n",
       "      <td>2014.0</td>\n",
       "      <td>25901</td>\n",
       "      <td>25901</td>\n",
       "      <td>25901</td>\n",
       "    </tr>\n",
       "    <tr>\n",
       "      <th>42</th>\n",
       "      <td>CA</td>\n",
       "      <td>2015.0</td>\n",
       "      <td>12465</td>\n",
       "      <td>12465</td>\n",
       "      <td>12465</td>\n",
       "    </tr>\n",
       "    <tr>\n",
       "      <th>43</th>\n",
       "      <td>CA</td>\n",
       "      <td>2016.0</td>\n",
       "      <td>160</td>\n",
       "      <td>160</td>\n",
       "      <td>160</td>\n",
       "    </tr>\n",
       "    <tr>\n",
       "      <th>44</th>\n",
       "      <td>CA</td>\n",
       "      <td>2017.0</td>\n",
       "      <td>246</td>\n",
       "      <td>246</td>\n",
       "      <td>246</td>\n",
       "    </tr>\n",
       "    <tr>\n",
       "      <th>45</th>\n",
       "      <td>CA</td>\n",
       "      <td>2018.0</td>\n",
       "      <td>507</td>\n",
       "      <td>507</td>\n",
       "      <td>507</td>\n",
       "    </tr>\n",
       "  </tbody>\n",
       "</table>\n",
       "</div>"
      ],
      "text/plain": [
       "   STATE  START_YEAR  INTEREST_TYPE  SUP_INTEREST_TYPE  START_DATE\n",
       "41    CA      2014.0          25901              25901       25901\n",
       "42    CA      2015.0          12465              12465       12465\n",
       "43    CA      2016.0            160                160         160\n",
       "44    CA      2017.0            246                246         246\n",
       "45    CA      2018.0            507                507         507"
      ]
     },
     "execution_count": 26,
     "metadata": {},
     "output_type": "execute_result"
    }
   ],
   "source": [
    "#Pull the counts of laws/regulations by State and Year\n",
    "state_count_df = pd.DataFrame(west_coast_df.groupby(['STATE','START_YEAR']).count())\n",
    "state_count_df = state_count_df.reset_index()\n",
    "\n",
    "#Filter out only the years 2014 - 2018\n",
    "state_count_df = state_count_df.loc[state_count_df['START_YEAR'].astype(str).str.contains('2014|2015|2016|2017|2018')]\n",
    "pd.to_csv('')"
   ]
  },
  {
   "cell_type": "code",
   "execution_count": 12,
   "metadata": {},
   "outputs": [],
   "source": [
    "#Pull the counts of laws/regulations by year for the entire coast\n",
    "coast_count_df = pd.DataFrame(west_coast_df.groupby(['START_YEAR']).count())\n",
    "coast_count_df = coast_count_df.reset_index()\n",
    "\n",
    "#Filter out only the years 2014 - 2018\n",
    "coast_count_df = coast_count_df.loc[coast_count_df['START_YEAR'].astype(str).str.contains('2014|2015|2016|2017|2018')]"
   ]
  },
  {
   "cell_type": "code",
   "execution_count": 21,
   "metadata": {},
   "outputs": [
    {
     "data": {
      "text/plain": [
       "START_YEAR           5\n",
       "STATE                5\n",
       "INTEREST_TYPE        5\n",
       "SUP_INTEREST_TYPE    5\n",
       "START_DATE           5\n",
       "dtype: int64"
      ]
     },
     "execution_count": 21,
     "metadata": {},
     "output_type": "execute_result"
    }
   ],
   "source": [
    "\n"
   ]
  },
  {
   "cell_type": "code",
   "execution_count": null,
   "metadata": {
    "collapsed": true
   },
   "outputs": [],
   "source": []
  }
 ],
 "metadata": {
  "kernelspec": {
   "display_name": "Python [conda env:.conda-PythonData]",
   "language": "python",
   "name": "conda-env-.conda-PythonData-py"
  },
  "language_info": {
   "codemirror_mode": {
    "name": "ipython",
    "version": 3
   },
   "file_extension": ".py",
   "mimetype": "text/x-python",
   "name": "python",
   "nbconvert_exporter": "python",
   "pygments_lexer": "ipython3",
   "version": "3.6.9"
  }
 },
 "nbformat": 4,
 "nbformat_minor": 2
}
