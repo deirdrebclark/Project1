{
 "cells": [
  {
   "cell_type": "code",
   "execution_count": 1,
   "metadata": {},
   "outputs": [],
   "source": [
    "# Dependencies and Setup\n",
    "import matplotlib.pyplot as plt\n",
    "import pandas as pd\n",
    "import numpy as np\n",
    "import requests\n",
    "import time\n",
    "from scipy.stats import linregress\n",
    "from pprint import pprint\n",
    "import json\n",
    "\n",
    "\n",
    "\n",
    "\n",
    "\n"
   ]
  },
  {
   "cell_type": "code",
   "execution_count": 2,
   "metadata": {},
   "outputs": [],
   "source": [
    "# Read in data files for population data\n",
    "total_pop = \"Resources/population.csv\"\n",
    "west_pop = \"Resources/westcoastpop.csv\"\n",
    "east_pop = \"Resources/eastcoastpop.csv\"\n",
    "\n",
    "total_pop = pd.read_csv(total_pop) \n",
    "west_pop = pd.read_csv(west_pop)\n",
    "east_pop = pd.read_csv(east_pop)\n",
    "\n",
    "total_pop.index=['2014','2015','2016','2017','2018']\n",
    "new_pop=total_pop.drop(['Unnamed: 0'],axis=1)"
   ]
  },
  {
   "cell_type": "code",
   "execution_count": 3,
   "metadata": {},
   "outputs": [
    {
     "data": {
      "image/png": "[encoded data removed]",
      "text/plain": [
       "<Figure size 720x216 with 1 Axes>"
      ]
     },
     "metadata": {
      "needs_background": "light"
     },
     "output_type": "display_data"
    }
   ],
   "source": [
    "total_pop.drop(['Unnamed: 0'],axis=1).plot(kind=\"bar\", figsize=(10,3), rot=45)\n",
    "plt.title('Population by Coast: 5-Year Period')\n",
    "plt.ylabel('Population (millions)')  \n",
    "plt.savefig('TotP.png')\n",
    "plt.show()"
   ]
  },
  {
   "cell_type": "code",
   "execution_count": null,
   "metadata": {},
   "outputs": [],
   "source": [
    "# Read in the east coast GDP CSV\n",
    "csv_file = pd.read_csv('Resources/GDP_East.csv', thousands=',')\n",
    "east_data = pd.DataFrame(csv_file)\n",
    "east_data.columns = ['State', '2014', '2015', '2016', '2017', '2018']\n",
    "east_data"
   ]
  },
  {
   "cell_type": "code",
   "execution_count": null,
   "metadata": {},
   "outputs": [],
   "source": [
    "# Sum total of east coast GDP per year\n",
    "east_sum = east_data.sum()\n",
    "east_sum"
   ]
  },
  {
   "cell_type": "code",
   "execution_count": null,
   "metadata": {},
   "outputs": [],
   "source": [
    "# Read in the west coast GDP CSV\n",
    "csv_file = pd.read_csv('Resources/GDP_West.csv', thousands=',')\n",
    "west_data = pd.DataFrame(csv_file)\n",
    "west_data.columns = ['State', '2014', '2015', '2016', '2017', '2018']\n",
    "west_data"
   ]
  },
  {
   "cell_type": "code",
   "execution_count": null,
   "metadata": {},
   "outputs": [],
   "source": [
    "# Sum total of west coast GDP per year\n",
    "west_sum = west_data.sum()\n",
    "west_df = pd.DataFrame(west_sum)\n",
    "west_df"
   ]
  },
  {
   "cell_type": "code",
   "execution_count": null,
   "metadata": {},
   "outputs": [],
   "source": [
    "# Combine the two into a total GDP summary table\n",
    "sum_df = pd.DataFrame(east_sum)\n",
    "sum_df.columns = ['East Coast']\n",
    "sums_df = sum_df.join(west_df)\n",
    "sums_df.columns = ['East Coast', 'West Coast']\n",
    "sums_df = sums_df.T\n",
    "del sums_df['State']\n",
    "sums_df"
   ]
  },
  {
   "cell_type": "code",
   "execution_count": null,
   "metadata": {},
   "outputs": [],
   "source": [
    "# Transform GDP Summary table for readability\n",
    "sums_df = sums_df.T\n",
    "sums_df"
   ]
  },
  {
   "cell_type": "code",
   "execution_count": null,
   "metadata": {},
   "outputs": [],
   "source": [
    "# Summary East v West coast bar plot\n",
    "\n",
    "labels = ['2014', '2015', '2016', '2017', '2018']\n",
    "\n",
    "x = np.arange(len(labels))  # the label locations\n",
    "width = 0.35  # the width of the bars\n",
    "\n",
    "fig, ax = plt.subplots()\n",
    "rects1 = ax.bar(x - width/2, sums_df['East Coast'], width, label='East Coast')\n",
    "rects2 = ax.bar(x + width/2, sums_df['West Coast'], width, label='West Coast')\n",
    "\n",
    "# Add some text for labels, title and custom x-axis tick labels, etc.\n",
    "ax.set_ylabel('Total GDP in Millions of USD')\n",
    "ax.set_title('Summary of GDP on Each Coast by Year')\n",
    "ax.set_xticks(x)\n",
    "ax.set_xticklabels(labels)\n",
    "ax.legend()\n",
    "plt.show()"
   ]
  },
  {
   "cell_type": "code",
   "execution_count": null,
   "metadata": {},
   "outputs": [],
   "source": [
    "# Open coastline CSV\n",
    "csv_file = pd.read_csv(\"Resources/coastline.csv\", thousands=\",\")\n",
    "coast_df = pd.DataFrame(csv_file)\n",
    "\n",
    "# Format the coastline Dataframe\n",
    "coast_df.columns = ['State', 'Coastline']\n",
    "coast_df['Coastline'] = coast_df['Coastline'].str.strip(' mi')\n",
    "coast_df['Coastline'] = coast_df['Coastline'].str.replace(',' , '')\n",
    "coast_df['Coastline'] = coast_df['Coastline'].astype(int)\n",
    "coast_df"
   ]
  },
  {
   "cell_type": "code",
   "execution_count": null,
   "metadata": {},
   "outputs": [],
   "source": [
    "# Barplot for coastline values\n",
    "plt.bar(coast_df['State'], coast_df['Coastline'])\n",
    "plt.xticks(rotation=\"vertical\")\n",
    "plt.ylabel(\"Coastline (mi)\")\n",
    "plt.xlabel(\"State\")\n",
    "plt.title(\"Coastline per State\")\n",
    "plt.show()"
   ]
  }
 ],
 "metadata": {
  "kernelspec": {
   "display_name": "Python 3",
   "language": "python",
   "name": "python3"
  },
  "language_info": {
   "codemirror_mode": {
    "name": "ipython",
    "version": 3
   },
   "file_extension": ".py",
   "mimetype": "text/x-python",
   "name": "python",
   "nbconvert_exporter": "python",
   "pygments_lexer": "ipython3",
   "version": "3.7.4"
  }
 },
 "nbformat": 4,
 "nbformat_minor": 2
}
