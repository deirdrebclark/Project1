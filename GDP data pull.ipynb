{
 "cells": [
  {
   "cell_type": "code",
   "execution_count": null,
   "metadata": {},
   "outputs": [],
   "source": [
    "import pandas as pd\n",
    "import requests\n",
    "import json\n",
    "from pprint import pprint\n",
    "from config import bea_key"
   ]
  },
  {
   "cell_type": "code",
   "execution_count": null,
   "metadata": {},
   "outputs": [],
   "source": [
    "geofips_w = ['AK','CA','HI','OR','WA']\n",
    "\n",
    "params= {'UserID' : bea_key,\n",
    "        'method' : 'GetData',\n",
    "        'datasetname' : 'Regional',\n",
    "        'TableName' : 'SAGDP2N',\n",
    "        'GeoFIPS' : None,\n",
    "        'LineCode' : '1',\n",
    "        'Frequency' : 'A',\n",
    "        'Year' : 'LAST5'\n",
    "        }\n",
    "# \"Per capita real GDP by state (NAICS)\" Key=\"SAGDP10N\"\n",
    "# \"Gross domestic product (GDP) by state (NAICS)\" Key=\"SAGDP2N\"\n",
    "# \"Real GDP by state (NAICS)\" Key=\"SAGDP9N\"\n",
    "\n",
    "url = 'https://apps.bea.gov/api/data?'\n",
    "df = pd.DataFrame()\n",
    "\n",
    "for index in geofips_w:\n",
    "    params['GeoFIPS'] = index\n",
    "    response = requests.get(url, params = params).json()\n",
    "    print('...')\n",
    "    GDP_value1 = response['BEAAPI']['Results']['Data'][0]['DataValue']\n",
    "    GDP_year1 = response['BEAAPI']['Results']['Data'][0]['TimePeriod']\n",
    "    GDP_value2 = response['BEAAPI']['Results']['Data'][1]['DataValue']\n",
    "    GDP_year2 = response['BEAAPI']['Results']['Data'][1]['TimePeriod']\n",
    "    GDP_value3 = response['BEAAPI']['Results']['Data'][2]['DataValue']\n",
    "    GDP_year3 = response['BEAAPI']['Results']['Data'][2]['TimePeriod']\n",
    "    GDP_value4 = response['BEAAPI']['Results']['Data'][3]['DataValue']\n",
    "    GDP_year4 = response['BEAAPI']['Results']['Data'][3]['TimePeriod']\n",
    "    GDP_value5 = response['BEAAPI']['Results']['Data'][4]['DataValue']\n",
    "    GDP_year5 = response['BEAAPI']['Results']['Data'][4]['TimePeriod']\n",
    "    print(f'Got sets...')\n",
    "    series = {GDP_year1: GDP_value1, \n",
    "              GDP_year2: GDP_value2, \n",
    "              GDP_year3: GDP_value3, \n",
    "              GDP_year4: GDP_value4, \n",
    "              GDP_year5: GDP_value5}\n",
    "    print(series)\n",
    "    df = df.append(series, ignore_index=True)\n",
    "print('Done!') \n"
   ]
  },
  {
   "cell_type": "code",
   "execution_count": null,
   "metadata": {},
   "outputs": [],
   "source": [
    "geofips_e = ['AL','MS','ME','NY']\n",
    "geofips_e2 = ['VA','LA', 'MA', 'MD']\n",
    "geofips_e3 = ['FL','GA','TX','NC']\n",
    "geofips_e4 = ['SC', 'NH', 'NJ']\n",
    "geofips_e5 = ['CT', 'DE', 'RI']"
   ]
  },
  {
   "cell_type": "code",
   "execution_count": null,
   "metadata": {},
   "outputs": [],
   "source": [
    "df2 = pd.DataFrame()\n",
    "\n",
    "for index in geofips_e:\n",
    "    params['GeoFIPS'] = index\n",
    "    response = requests.get(url, params = params).json()\n",
    "    print('...')\n",
    "    GDP_value1 = response['BEAAPI']['Results']['Data'][0]['DataValue']\n",
    "    GDP_year1 = response['BEAAPI']['Results']['Data'][0]['TimePeriod']\n",
    "    GDP_value2 = response['BEAAPI']['Results']['Data'][1]['DataValue']\n",
    "    GDP_year2 = response['BEAAPI']['Results']['Data'][1]['TimePeriod']\n",
    "    GDP_value3 = response['BEAAPI']['Results']['Data'][2]['DataValue']\n",
    "    GDP_year3 = response['BEAAPI']['Results']['Data'][2]['TimePeriod']\n",
    "    GDP_value4 = response['BEAAPI']['Results']['Data'][3]['DataValue']\n",
    "    GDP_year4 = response['BEAAPI']['Results']['Data'][3]['TimePeriod']\n",
    "    GDP_value5 = response['BEAAPI']['Results']['Data'][4]['DataValue']\n",
    "    GDP_year5 = response['BEAAPI']['Results']['Data'][4]['TimePeriod']\n",
    "    print(f'Got sets...')\n",
    "    series = {GDP_year1: GDP_value1, \n",
    "              GDP_year2: GDP_value2, \n",
    "              GDP_year3: GDP_value3, \n",
    "              GDP_year4: GDP_value4, \n",
    "              GDP_year5: GDP_value5}\n",
    "    print(series)\n",
    "    df2 = df2.append(series, ignore_index=True)\n",
    "print('Done!')"
   ]
  },
  {
   "cell_type": "code",
   "execution_count": null,
   "metadata": {},
   "outputs": [],
   "source": [
    "df3 = pd.DataFrame()\n",
    "for index in geofips_e2:\n",
    "    params['GeoFIPS'] = index\n",
    "    response = requests.get(url, params = params).json()\n",
    "    print('...')\n",
    "    GDP_value1 = response['BEAAPI']['Results']['Data'][0]['DataValue']\n",
    "    GDP_year1 = response['BEAAPI']['Results']['Data'][0]['TimePeriod']\n",
    "    GDP_value2 = response['BEAAPI']['Results']['Data'][1]['DataValue']\n",
    "    GDP_year2 = response['BEAAPI']['Results']['Data'][1]['TimePeriod']\n",
    "    GDP_value3 = response['BEAAPI']['Results']['Data'][2]['DataValue']\n",
    "    GDP_year3 = response['BEAAPI']['Results']['Data'][2]['TimePeriod']\n",
    "    GDP_value4 = response['BEAAPI']['Results']['Data'][3]['DataValue']\n",
    "    GDP_year4 = response['BEAAPI']['Results']['Data'][3]['TimePeriod']\n",
    "    GDP_value5 = response['BEAAPI']['Results']['Data'][4]['DataValue']\n",
    "    GDP_year5 = response['BEAAPI']['Results']['Data'][4]['TimePeriod']\n",
    "    print(f'Got sets...')\n",
    "    series = {GDP_year1: GDP_value1, \n",
    "              GDP_year2: GDP_value2, \n",
    "              GDP_year3: GDP_value3, \n",
    "              GDP_year4: GDP_value4, \n",
    "              GDP_year5: GDP_value5}\n",
    "    print(series)\n",
    "    df3 = df3.append(series, ignore_index=True)\n",
    "print('Done!')"
   ]
  },
  {
   "cell_type": "code",
   "execution_count": null,
   "metadata": {},
   "outputs": [],
   "source": [
    "df4 = pd.DataFrame()\n",
    "for index in geofips_e3:\n",
    "    params['GeoFIPS'] = index\n",
    "    response = requests.get(url, params = params).json()\n",
    "    print('...')\n",
    "    GDP_value1 = response['BEAAPI']['Results']['Data'][0]['DataValue']\n",
    "    GDP_year1 = response['BEAAPI']['Results']['Data'][0]['TimePeriod']\n",
    "    GDP_value2 = response['BEAAPI']['Results']['Data'][1]['DataValue']\n",
    "    GDP_year2 = response['BEAAPI']['Results']['Data'][1]['TimePeriod']\n",
    "    GDP_value3 = response['BEAAPI']['Results']['Data'][2]['DataValue']\n",
    "    GDP_year3 = response['BEAAPI']['Results']['Data'][2]['TimePeriod']\n",
    "    GDP_value4 = response['BEAAPI']['Results']['Data'][3]['DataValue']\n",
    "    GDP_year4 = response['BEAAPI']['Results']['Data'][3]['TimePeriod']\n",
    "    GDP_value5 = response['BEAAPI']['Results']['Data'][4]['DataValue']\n",
    "    GDP_year5 = response['BEAAPI']['Results']['Data'][4]['TimePeriod']\n",
    "    print(f'Got sets...')\n",
    "    series = {GDP_year1: GDP_value1, \n",
    "              GDP_year2: GDP_value2, \n",
    "              GDP_year3: GDP_value3, \n",
    "              GDP_year4: GDP_value4, \n",
    "              GDP_year5: GDP_value5}\n",
    "    print(series)\n",
    "    df4 = df4.append(series, ignore_index=True)\n",
    "print('Done!')"
   ]
  },
  {
   "cell_type": "code",
   "execution_count": null,
   "metadata": {},
   "outputs": [],
   "source": [
    "df5 = pd.DataFrame()\n",
    "for index in geofips_e4:\n",
    "    params['GeoFIPS'] = index\n",
    "    response = requests.get(url, params = params).json()\n",
    "    print('...')\n",
    "    GDP_value1 = response['BEAAPI']['Results']['Data'][0]['DataValue']\n",
    "    GDP_year1 = response['BEAAPI']['Results']['Data'][0]['TimePeriod']\n",
    "    GDP_value2 = response['BEAAPI']['Results']['Data'][1]['DataValue']\n",
    "    GDP_year2 = response['BEAAPI']['Results']['Data'][1]['TimePeriod']\n",
    "    GDP_value3 = response['BEAAPI']['Results']['Data'][2]['DataValue']\n",
    "    GDP_year3 = response['BEAAPI']['Results']['Data'][2]['TimePeriod']\n",
    "    GDP_value4 = response['BEAAPI']['Results']['Data'][3]['DataValue']\n",
    "    GDP_year4 = response['BEAAPI']['Results']['Data'][3]['TimePeriod']\n",
    "    GDP_value5 = response['BEAAPI']['Results']['Data'][4]['DataValue']\n",
    "    GDP_year5 = response['BEAAPI']['Results']['Data'][4]['TimePeriod']\n",
    "    print(f'Got sets...')\n",
    "    series = {GDP_year1: GDP_value1, \n",
    "              GDP_year2: GDP_value2, \n",
    "              GDP_year3: GDP_value3, \n",
    "              GDP_year4: GDP_value4, \n",
    "              GDP_year5: GDP_value5}\n",
    "    print(series)\n",
    "    df5 = df5.append(series, ignore_index=True)\n",
    "print('Done!')"
   ]
  },
  {
   "cell_type": "code",
   "execution_count": null,
   "metadata": {},
   "outputs": [],
   "source": [
    "df6 = pd.DataFrame()\n",
    "for index in geofips_e5:\n",
    "    params['GeoFIPS'] = index\n",
    "    response = requests.get(url, params = params).json()\n",
    "    print('...')\n",
    "    GDP_value1 = response['BEAAPI']['Results']['Data'][0]['DataValue']\n",
    "    GDP_year1 = response['BEAAPI']['Results']['Data'][0]['TimePeriod']\n",
    "    GDP_value2 = response['BEAAPI']['Results']['Data'][1]['DataValue']\n",
    "    GDP_year2 = response['BEAAPI']['Results']['Data'][1]['TimePeriod']\n",
    "    GDP_value3 = response['BEAAPI']['Results']['Data'][2]['DataValue']\n",
    "    GDP_year3 = response['BEAAPI']['Results']['Data'][2]['TimePeriod']\n",
    "    GDP_value4 = response['BEAAPI']['Results']['Data'][3]['DataValue']\n",
    "    GDP_year4 = response['BEAAPI']['Results']['Data'][3]['TimePeriod']\n",
    "    GDP_value5 = response['BEAAPI']['Results']['Data'][4]['DataValue']\n",
    "    GDP_year5 = response['BEAAPI']['Results']['Data'][4]['TimePeriod']\n",
    "    print(f'Got sets...')\n",
    "    series = {GDP_year1: GDP_value1, \n",
    "              GDP_year2: GDP_value2, \n",
    "              GDP_year3: GDP_value3, \n",
    "              GDP_year4: GDP_value4, \n",
    "              GDP_year5: GDP_value5}\n",
    "    print(series)\n",
    "    df6 = df6.append(series, ignore_index=True)\n",
    "print('Done!')"
   ]
  },
  {
   "cell_type": "code",
   "execution_count": null,
   "metadata": {},
   "outputs": [],
   "source": [
    "df"
   ]
  },
  {
   "cell_type": "code",
   "execution_count": null,
   "metadata": {},
   "outputs": [],
   "source": [
    "# What is the LineCode for this table (SAGDP2N)\n",
    "params2 = {'UserID' : bea_key,\n",
    "          'method' : 'getparametervaluesfiltered',\n",
    "          'datasetname' : 'Regional',\n",
    "          'targetparameter' : 'linecode',\n",
    "          'tablename' : 'SAGDP2N',\n",
    "          }\n",
    "url = 'https://apps.bea.gov/api/data?'\n",
    "response = requests.get(url, params = params2)\n",
    "pprint(response.json())"
   ]
  },
  {
   "cell_type": "code",
   "execution_count": null,
   "metadata": {},
   "outputs": [],
   "source": [
    "params3 = {'UserID' : bea_key,\n",
    "        'method' : 'GetData',\n",
    "        'datasetname' : 'Regional',\n",
    "        'TableName' : 'SAGDP2N',\n",
    "        'GeoFIPS' : \"AL\",\n",
    "        'LineCode' : '1',\n",
    "        'Frequency' : 'A',\n",
    "        'Year' : 'LAST5'\n",
    "}\n",
    "url = 'https://apps.bea.gov/api/data?'\n",
    "response = requests.get(url, params = params3).json()\n",
    "#print(response['BEAAPI']['Results']['Data'][4]['TimePeriod'])\n",
    "series2 = [response['BEAAPI']['Results']['Data'][4]['TimePeriod'], 'AL']\n",
    "df2 = pd.DataFrame(series2)\n",
    "df2.append(series2).T"
   ]
  },
  {
   "cell_type": "code",
   "execution_count": null,
   "metadata": {},
   "outputs": [],
   "source": [
    "df5 = df5.T"
   ]
  },
  {
   "cell_type": "code",
   "execution_count": null,
   "metadata": {},
   "outputs": [],
   "source": [
    "df2.columns = ['AL','MS','ME','NY']\n",
    "df3.columns = ['VA','LA', 'MA', 'MD']\n",
    "df4.columns = ['FL','GA','TX','NC']\n",
    "df5.columns = ['SC', 'NH', 'NJ']\n",
    "df6.columns = ['CT', 'DE', 'RI']\n",
    "df2"
   ]
  },
  {
   "cell_type": "code",
   "execution_count": null,
   "metadata": {},
   "outputs": [],
   "source": [
    "df_east = df_east.append(df6)\n",
    "df_east"
   ]
  },
  {
   "cell_type": "code",
   "execution_count": null,
   "metadata": {},
   "outputs": [],
   "source": [
    "df"
   ]
  },
  {
   "cell_type": "code",
   "execution_count": null,
   "metadata": {},
   "outputs": [],
   "source": [
    "df_east.to_csv(\"Resources/GDP_East.csv\", index=True)"
   ]
  },
  {
   "cell_type": "code",
   "execution_count": null,
   "metadata": {},
   "outputs": [],
   "source": [
    "df = df.T\n",
    "df.columns = ['AK','CA','HI','OR','WA']\n",
    "df"
   ]
  },
  {
   "cell_type": "code",
   "execution_count": null,
   "metadata": {},
   "outputs": [],
   "source": [
    "df = df.T\n",
    "df"
   ]
  },
  {
   "cell_type": "code",
   "execution_count": null,
   "metadata": {},
   "outputs": [],
   "source": [
    "df.to_csv(\"Resources/GDP_West.csv\", index=True)"
   ]
  },
  {
   "cell_type": "code",
   "execution_count": null,
   "metadata": {},
   "outputs": [],
   "source": []
  }
 ],
 "metadata": {
  "kernelspec": {
   "display_name": "Python 3",
   "language": "python",
   "name": "python3"
  },
  "language_info": {
   "codemirror_mode": {
    "name": "ipython",
    "version": 3
   },
   "file_extension": ".py",
   "mimetype": "text/x-python",
   "name": "python",
   "nbconvert_exporter": "python",
   "pygments_lexer": "ipython3",
   "version": "3.7.4"
  }
 },
 "nbformat": 4,
 "nbformat_minor": 2
}
