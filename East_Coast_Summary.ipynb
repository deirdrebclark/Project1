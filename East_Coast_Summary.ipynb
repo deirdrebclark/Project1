{
 "cells": [
  {
   "cell_type": "code",
   "execution_count": 1,
   "metadata": {},
   "outputs": [],
   "source": [
    "import pandas as pd"
   ]
  },
  {
   "cell_type": "code",
   "execution_count": 5,
   "metadata": {},
   "outputs": [],
   "source": [
    "# Set up path to all the summary files. \n",
    "\n",
    "# East coast states \n",
    "maine = \"Resources/Maine_DetailedSummary.csv\"\n",
    "new_hampshire = \"Resources/NewHampshire_DetailedSummary.csv\"\n",
    "massachusetts = \"Resources/Massachusetts_DetailedSummary.csv\"\n",
    "rhode_island = \"Resources/RhodeIsland_DetailedSummary.csv\"\n",
    "connecticut = \"Resources/Connecticut_DetailedSummary.csv\"\n",
    "new_jersey = \"Resources/NewJersey_DetailedSummary.csv\"\n",
    "new_york = \"Resources/NewYork_DetailedSummary.csv\"\n",
    "delaware = \"Resources/Delaware_DetailedSummary.csv\"\n",
    "maryland = \"Resources/Maryland_DetailedSummary.csv\"\n",
    "virginia = \"Resources/Virginia_DetailedSummary.csv\"\n",
    "north_carolina = \"Resources/NorthCarolina_DetailedSummary.csv\"\n",
    "south_carolina = \"Resources/SouthCarolina_DetailedSummary.csv\"\n",
    "georgia = \"Resources/Georgia_DetailedSummary.csv\"\n",
    "florida = \"Resources/Florida_DetailedSummary.csv\"\n",
    "# Gulf states\n",
    "alabama = \"Resources/Alabama_DetailedSummary.csv\"\n",
    "mississippi = \"Resources/Mississippi_DetailedSummary.csv\"\n",
    "louisiana = \"Resources/Louisiana_DetailedSummary.csv\"\n",
    "texas = \"Resources/Texas_DetailedSummary.csv\""
   ]
  },
  {
   "cell_type": "code",
   "execution_count": 6,
   "metadata": {},
   "outputs": [],
   "source": [
    "# Read all the summary files. \n",
    "\n",
    "# East coast States\n",
    "maine_pd = pd.read_csv(maine)\n",
    "new_hampshire_pd = pd.read_csv(new_hampshire)\n",
    "massachusetts_pd = pd.read_csv(massachusetts)\n",
    "rhode_island_pd = pd.read_csv(rhode_island)\n",
    "connecticut_pd = pd.read_csv(connecticut)\n",
    "new_jersey_pd = pd.read_csv(new_jersey)\n",
    "new_york_pd = pd.read_csv(new_york)\n",
    "delaware_pd = pd.read_csv(delaware)\n",
    "maryland_pd = pd.read_csv(maryland)\n",
    "virginia_pd = pd.read_csv(virginia)\n",
    "north_carolina_pd = pd.read_csv(north_carolina)\n",
    "south_carolina_pd = pd.read_csv(south_carolina)\n",
    "georgia_pd = pd.read_csv(georgia)\n",
    "florida_pd = pd.read_csv(florida)\n",
    "# Gulf states\n",
    "alabama_pd = pd.read_csv(alabama)\n",
    "mississippi_pd = pd.read_csv(mississippi)\n",
    "louisiana_pd = pd.read_csv(louisiana)\n",
    "texas_pd = pd.read_csv(texas)"
   ]
  },
  {
   "cell_type": "code",
   "execution_count": 7,
   "metadata": {
    "scrolled": false
   },
   "outputs": [
    {
     "data": {
      "text/html": [
       "<div>\n",
       "<style scoped>\n",
       "    .dataframe tbody tr th:only-of-type {\n",
       "        vertical-align: middle;\n",
       "    }\n",
       "\n",
       "    .dataframe tbody tr th {\n",
       "        vertical-align: top;\n",
       "    }\n",
       "\n",
       "    .dataframe thead th {\n",
       "        text-align: right;\n",
       "    }\n",
       "</style>\n",
       "<table border=\"1\" class=\"dataframe\">\n",
       "  <thead>\n",
       "    <tr style=\"text-align: right;\">\n",
       "      <th></th>\n",
       "      <th>version https://git-lfs.github.com/spec/v1</th>\n",
       "    </tr>\n",
       "  </thead>\n",
       "  <tbody>\n",
       "    <tr>\n",
       "      <th>0</th>\n",
       "      <td>oid sha256:27882f27214d6b297535662bbcba56cc271...</td>\n",
       "    </tr>\n",
       "    <tr>\n",
       "      <th>1</th>\n",
       "      <td>size 124134</td>\n",
       "    </tr>\n",
       "    <tr>\n",
       "      <th>0</th>\n",
       "      <td>oid sha256:d96720ebfa21f25ab940a3b55b8c2e6f920...</td>\n",
       "    </tr>\n",
       "    <tr>\n",
       "      <th>1</th>\n",
       "      <td>size 48827</td>\n",
       "    </tr>\n",
       "    <tr>\n",
       "      <th>0</th>\n",
       "      <td>oid sha256:c3f4f3df30757f0c13c4e6fbe2b2e93475c...</td>\n",
       "    </tr>\n",
       "  </tbody>\n",
       "</table>\n",
       "</div>"
      ],
      "text/plain": [
       "          version https://git-lfs.github.com/spec/v1\n",
       "0  oid sha256:27882f27214d6b297535662bbcba56cc271...\n",
       "1                                        size 124134\n",
       "0  oid sha256:d96720ebfa21f25ab940a3b55b8c2e6f920...\n",
       "1                                         size 48827\n",
       "0  oid sha256:c3f4f3df30757f0c13c4e6fbe2b2e93475c..."
      ]
     },
     "execution_count": 7,
     "metadata": {},
     "output_type": "execute_result"
    }
   ],
   "source": [
    "# Combine all dataframes into one file.\n",
    "\n",
    "east_states = [maine_pd, new_hampshire_pd, massachusetts_pd, rhode_island_pd, connecticut_pd, new_jersey_pd, \n",
    "               new_york_pd, delaware_pd, maryland_pd, virginia_pd, north_carolina_pd, south_carolina_pd, \n",
    "               georgia_pd, florida_pd, alabama_pd, mississippi_pd, louisiana_pd, texas_pd]\n",
    "east_coast = pd.concat(east_states)\n",
    "east_coast.head()"
   ]
  },
  {
   "cell_type": "code",
   "execution_count": 8,
   "metadata": {},
   "outputs": [
    {
     "ename": "KeyError",
     "evalue": "\"['Cleanup ID' 'Zone' 'Country' 'Cleanup Date' 'Group Name' 'Adults'\\n 'Children' 'People'] not found in axis\"",
     "output_type": "error",
     "traceback": [
      "\u001b[1;31m---------------------------------------------------------------------------\u001b[0m",
      "\u001b[1;31mKeyError\u001b[0m                                  Traceback (most recent call last)",
      "\u001b[1;32m<ipython-input-8-c0eed2d247c1>\u001b[0m in \u001b[0;36m<module>\u001b[1;34m\u001b[0m\n\u001b[0;32m      2\u001b[0m \u001b[1;33m\u001b[0m\u001b[0m\n\u001b[0;32m      3\u001b[0m EC_dropped = east_coast.drop(columns = ['Cleanup ID', 'Zone', 'Country', 'Cleanup Date', \n\u001b[1;32m----> 4\u001b[1;33m                                                 'Group Name', 'Adults', 'Children', 'People'])\n\u001b[0m\u001b[0;32m      5\u001b[0m \u001b[0mEC_dropped\u001b[0m\u001b[1;33m.\u001b[0m\u001b[0mhead\u001b[0m\u001b[1;33m(\u001b[0m\u001b[1;33m)\u001b[0m\u001b[1;33m\u001b[0m\u001b[1;33m\u001b[0m\u001b[0m\n",
      "\u001b[1;32m~\\Anaconda3\\lib\\site-packages\\pandas\\core\\frame.py\u001b[0m in \u001b[0;36mdrop\u001b[1;34m(self, labels, axis, index, columns, level, inplace, errors)\u001b[0m\n\u001b[0;32m   3938\u001b[0m                                            \u001b[0mindex\u001b[0m\u001b[1;33m=\u001b[0m\u001b[0mindex\u001b[0m\u001b[1;33m,\u001b[0m \u001b[0mcolumns\u001b[0m\u001b[1;33m=\u001b[0m\u001b[0mcolumns\u001b[0m\u001b[1;33m,\u001b[0m\u001b[1;33m\u001b[0m\u001b[1;33m\u001b[0m\u001b[0m\n\u001b[0;32m   3939\u001b[0m                                            \u001b[0mlevel\u001b[0m\u001b[1;33m=\u001b[0m\u001b[0mlevel\u001b[0m\u001b[1;33m,\u001b[0m \u001b[0minplace\u001b[0m\u001b[1;33m=\u001b[0m\u001b[0minplace\u001b[0m\u001b[1;33m,\u001b[0m\u001b[1;33m\u001b[0m\u001b[1;33m\u001b[0m\u001b[0m\n\u001b[1;32m-> 3940\u001b[1;33m                                            errors=errors)\n\u001b[0m\u001b[0;32m   3941\u001b[0m \u001b[1;33m\u001b[0m\u001b[0m\n\u001b[0;32m   3942\u001b[0m     @rewrite_axis_style_signature('mapper', [('copy', True),\n",
      "\u001b[1;32m~\\Anaconda3\\lib\\site-packages\\pandas\\core\\generic.py\u001b[0m in \u001b[0;36mdrop\u001b[1;34m(self, labels, axis, index, columns, level, inplace, errors)\u001b[0m\n\u001b[0;32m   3778\u001b[0m         \u001b[1;32mfor\u001b[0m \u001b[0maxis\u001b[0m\u001b[1;33m,\u001b[0m \u001b[0mlabels\u001b[0m \u001b[1;32min\u001b[0m \u001b[0maxes\u001b[0m\u001b[1;33m.\u001b[0m\u001b[0mitems\u001b[0m\u001b[1;33m(\u001b[0m\u001b[1;33m)\u001b[0m\u001b[1;33m:\u001b[0m\u001b[1;33m\u001b[0m\u001b[1;33m\u001b[0m\u001b[0m\n\u001b[0;32m   3779\u001b[0m             \u001b[1;32mif\u001b[0m \u001b[0mlabels\u001b[0m \u001b[1;32mis\u001b[0m \u001b[1;32mnot\u001b[0m \u001b[1;32mNone\u001b[0m\u001b[1;33m:\u001b[0m\u001b[1;33m\u001b[0m\u001b[1;33m\u001b[0m\u001b[0m\n\u001b[1;32m-> 3780\u001b[1;33m                 \u001b[0mobj\u001b[0m \u001b[1;33m=\u001b[0m \u001b[0mobj\u001b[0m\u001b[1;33m.\u001b[0m\u001b[0m_drop_axis\u001b[0m\u001b[1;33m(\u001b[0m\u001b[0mlabels\u001b[0m\u001b[1;33m,\u001b[0m \u001b[0maxis\u001b[0m\u001b[1;33m,\u001b[0m \u001b[0mlevel\u001b[0m\u001b[1;33m=\u001b[0m\u001b[0mlevel\u001b[0m\u001b[1;33m,\u001b[0m \u001b[0merrors\u001b[0m\u001b[1;33m=\u001b[0m\u001b[0merrors\u001b[0m\u001b[1;33m)\u001b[0m\u001b[1;33m\u001b[0m\u001b[1;33m\u001b[0m\u001b[0m\n\u001b[0m\u001b[0;32m   3781\u001b[0m \u001b[1;33m\u001b[0m\u001b[0m\n\u001b[0;32m   3782\u001b[0m         \u001b[1;32mif\u001b[0m \u001b[0minplace\u001b[0m\u001b[1;33m:\u001b[0m\u001b[1;33m\u001b[0m\u001b[1;33m\u001b[0m\u001b[0m\n",
      "\u001b[1;32m~\\Anaconda3\\lib\\site-packages\\pandas\\core\\generic.py\u001b[0m in \u001b[0;36m_drop_axis\u001b[1;34m(self, labels, axis, level, errors)\u001b[0m\n\u001b[0;32m   3810\u001b[0m                 \u001b[0mnew_axis\u001b[0m \u001b[1;33m=\u001b[0m \u001b[0maxis\u001b[0m\u001b[1;33m.\u001b[0m\u001b[0mdrop\u001b[0m\u001b[1;33m(\u001b[0m\u001b[0mlabels\u001b[0m\u001b[1;33m,\u001b[0m \u001b[0mlevel\u001b[0m\u001b[1;33m=\u001b[0m\u001b[0mlevel\u001b[0m\u001b[1;33m,\u001b[0m \u001b[0merrors\u001b[0m\u001b[1;33m=\u001b[0m\u001b[0merrors\u001b[0m\u001b[1;33m)\u001b[0m\u001b[1;33m\u001b[0m\u001b[1;33m\u001b[0m\u001b[0m\n\u001b[0;32m   3811\u001b[0m             \u001b[1;32melse\u001b[0m\u001b[1;33m:\u001b[0m\u001b[1;33m\u001b[0m\u001b[1;33m\u001b[0m\u001b[0m\n\u001b[1;32m-> 3812\u001b[1;33m                 \u001b[0mnew_axis\u001b[0m \u001b[1;33m=\u001b[0m \u001b[0maxis\u001b[0m\u001b[1;33m.\u001b[0m\u001b[0mdrop\u001b[0m\u001b[1;33m(\u001b[0m\u001b[0mlabels\u001b[0m\u001b[1;33m,\u001b[0m \u001b[0merrors\u001b[0m\u001b[1;33m=\u001b[0m\u001b[0merrors\u001b[0m\u001b[1;33m)\u001b[0m\u001b[1;33m\u001b[0m\u001b[1;33m\u001b[0m\u001b[0m\n\u001b[0m\u001b[0;32m   3813\u001b[0m             \u001b[0mresult\u001b[0m \u001b[1;33m=\u001b[0m \u001b[0mself\u001b[0m\u001b[1;33m.\u001b[0m\u001b[0mreindex\u001b[0m\u001b[1;33m(\u001b[0m\u001b[1;33m**\u001b[0m\u001b[1;33m{\u001b[0m\u001b[0maxis_name\u001b[0m\u001b[1;33m:\u001b[0m \u001b[0mnew_axis\u001b[0m\u001b[1;33m}\u001b[0m\u001b[1;33m)\u001b[0m\u001b[1;33m\u001b[0m\u001b[1;33m\u001b[0m\u001b[0m\n\u001b[0;32m   3814\u001b[0m \u001b[1;33m\u001b[0m\u001b[0m\n",
      "\u001b[1;32m~\\Anaconda3\\lib\\site-packages\\pandas\\core\\indexes\\base.py\u001b[0m in \u001b[0;36mdrop\u001b[1;34m(self, labels, errors)\u001b[0m\n\u001b[0;32m   4963\u001b[0m             \u001b[1;32mif\u001b[0m \u001b[0merrors\u001b[0m \u001b[1;33m!=\u001b[0m \u001b[1;34m'ignore'\u001b[0m\u001b[1;33m:\u001b[0m\u001b[1;33m\u001b[0m\u001b[1;33m\u001b[0m\u001b[0m\n\u001b[0;32m   4964\u001b[0m                 raise KeyError(\n\u001b[1;32m-> 4965\u001b[1;33m                     '{} not found in axis'.format(labels[mask]))\n\u001b[0m\u001b[0;32m   4966\u001b[0m             \u001b[0mindexer\u001b[0m \u001b[1;33m=\u001b[0m \u001b[0mindexer\u001b[0m\u001b[1;33m[\u001b[0m\u001b[1;33m~\u001b[0m\u001b[0mmask\u001b[0m\u001b[1;33m]\u001b[0m\u001b[1;33m\u001b[0m\u001b[1;33m\u001b[0m\u001b[0m\n\u001b[0;32m   4967\u001b[0m         \u001b[1;32mreturn\u001b[0m \u001b[0mself\u001b[0m\u001b[1;33m.\u001b[0m\u001b[0mdelete\u001b[0m\u001b[1;33m(\u001b[0m\u001b[0mindexer\u001b[0m\u001b[1;33m)\u001b[0m\u001b[1;33m\u001b[0m\u001b[1;33m\u001b[0m\u001b[0m\n",
      "\u001b[1;31mKeyError\u001b[0m: \"['Cleanup ID' 'Zone' 'Country' 'Cleanup Date' 'Group Name' 'Adults'\\n 'Children' 'People'] not found in axis\""
     ]
    }
   ],
   "source": [
    "# Delete unnecessary columns\n",
    "\n",
    "EC_dropped = east_coast.drop(columns = ['Cleanup ID', 'Zone', 'Country', 'Cleanup Date', \n",
    "                                                'Group Name', 'Adults', 'Children', 'People'])\n",
    "EC_dropped.head()"
   ]
  },
  {
   "cell_type": "code",
   "execution_count": null,
   "metadata": {},
   "outputs": [],
   "source": [
    "# Rename long column names to simpler forms\n",
    "\n",
    "EC_named = EC_dropped.rename(columns = {\"Food Wrappers (candy, chips, etc.)\" : \"Food Wrappers\", \"Take Out/Away Containers (Plastic)\" : \"Food Containers (Plastic)\",\n",
    "                                                          \"Take Out/Away Containers (Foam)\" : \"Food Containers (Foam)\", \"Fishing Buoys, Pots & Traps\" : \"Fishing Tools\", \n",
    "                                                          \"Fishing Net & Pieces\" : \"Fishing Nets\", \"Fishing Line (1 yard/meter = 1 piece)\" : \"Fishing Lines\", \n",
    "                                                          \"Rope (1 yard/meter = 1 piece)\" : \"Rope\", \"Fishing Gear (Clean Swell)\" : \"Fishing Gear\", \n",
    "                                                          \"Other Plastic Bottles (oil, bleach, etc.)\" : \"Other Plastic Bottles\", \"Tobacco Packaging/Wrap\" : \"Tobacco Packs\",\n",
    "                                                          \"Other Packaging (Clean Swell)\" : \"Other Packaging\", \"Other Trash (Clean Swell)\" : \"Other Trash\", \n",
    "                                                          \"Personal Hygiene (Clean Swell)\" : \"Hygiene\"})\n",
    "EC_named.head()"
   ]
  },
  {
   "cell_type": "code",
   "execution_count": null,
   "metadata": {},
   "outputs": [],
   "source": [
    "# Group plastic columns\n",
    "\n",
    "EC_plastics = EC_named[[\"State\", \"Food Containers (Plastic)\", \"Bottle Caps (Plastic)\", \"Lids (Plastic)\", \"Straws, Stirrers\", \n",
    "                                          \"Beverage Bottles (Plastic)\", \"Grocery Bags (Plastic)\", \"Other Plastic Bags\", \n",
    "                                          \"Cups, Plates (Plastic)\", \"6-Pack Holders\", \"Other Plastic Bottles\", \n",
    "                                          \"Condoms\", \"Plastic Pieces\"]]\n",
    "EC_plastics.head()"
   ]
  },
  {
   "cell_type": "code",
   "execution_count": null,
   "metadata": {},
   "outputs": [],
   "source": [
    "# Group Plastic pollution by state\n",
    "\n",
    "EC_plastic_group = EC_plastics.groupby([\"State\"])\n",
    "EC_plastic_count = EC_plastic_group.sum()\n",
    "EC_plastic_count"
   ]
  },
  {
   "cell_type": "code",
   "execution_count": null,
   "metadata": {},
   "outputs": [],
   "source": [
    "# Group by foam columns\n",
    "\n",
    "EC_foam_group = EC_named[[\"State\", \"Food Containers (Foam)\", \"Cups, Plates (Foam)\", \n",
    "                                            \"Other Plastic/Foam Packaging\", \"Foam Pieces\"]]\n",
    "EC_foam_group"
   ]
  },
  {
   "cell_type": "code",
   "execution_count": null,
   "metadata": {},
   "outputs": [],
   "source": [
    "# Group Foam pollution by state \n",
    "\n",
    "EC_foam_group = EC_foam_group.groupby([\"State\"])\n",
    "EC_foam_counts = EC_foam_group.sum()\n",
    "EC_foam_counts"
   ]
  },
  {
   "cell_type": "code",
   "execution_count": null,
   "metadata": {},
   "outputs": [],
   "source": [
    "# Group by fishing tools trash\n",
    "\n",
    "EC_fishing = EC_named[[\"State\", \"Fishing Tools\", \"Fishing Nets\", \"Fishing Lines\", \"Fishing Gear\", \"Rope\"]]\n",
    "EC_fishing"
   ]
  },
  {
   "cell_type": "code",
   "execution_count": null,
   "metadata": {},
   "outputs": [],
   "source": [
    "# Group fishing tools trash by state\n",
    "\n",
    "EC_fishing_group = EC_fishing.groupby([\"State\"])\n",
    "EC_fishing_counts = EC_fishing_group.sum()\n",
    "EC_fishing_counts"
   ]
  },
  {
   "cell_type": "code",
   "execution_count": null,
   "metadata": {},
   "outputs": [],
   "source": [
    "# Group by smoking waste\n",
    "\n",
    "EC_smoking_waste = EC_named[[\"State\", \"Cigarette Butts\", \"Tobacco Packs\", \n",
    "                                               \"Cigar Tips\", \"Cigarette Lighters\"]]\n",
    "EC_smoking_waste"
   ]
  },
  {
   "cell_type": "code",
   "execution_count": null,
   "metadata": {},
   "outputs": [],
   "source": [
    "# Group smoking waste by state\n",
    "\n",
    "EC_smoking_waste_group = EC_smoking_waste.groupby([\"State\"])\n",
    "EC_smoking_waste_counts = EC_smoking_waste_group.sum()\n",
    "EC_smoking_waste_counts"
   ]
  },
  {
   "cell_type": "code",
   "execution_count": null,
   "metadata": {},
   "outputs": [],
   "source": [
    "# Group by food miscellaneous\n",
    "\n",
    "EC_food_mess = EC_named[[\"State\", \"Food Wrappers\", \"Forks, Knives, Spoons\", \"Bottle Caps (Metal)\", \n",
    "                                   \"Beverage Cans\", \"Paper Bags\", \"Cups, Plates (Paper)\"]]\n",
    "EC_food_mess"
   ]
  },
  {
   "cell_type": "code",
   "execution_count": null,
   "metadata": {},
   "outputs": [],
   "source": [
    "# Group food miscellaneous by state\n",
    "\n",
    "EC_food_waste = EC_food_mess.groupby([\"State\"])\n",
    "EC_misc_food_waste = EC_food_waste.sum()\n",
    "EC_misc_food_waste"
   ]
  },
  {
   "cell_type": "code",
   "execution_count": null,
   "metadata": {},
   "outputs": [],
   "source": [
    "# Group by miscellaneous\n",
    "\n",
    "EC_random_mess = EC_named[[\"State\", \"Strapping Bands\", \"Other Packaging\", \"Other Trash\", \n",
    "                                     \"Fireworks\", \"Appliances (refrigerators, washers, etc.)\", \"# of bags\",\n",
    "                                     \"Construction Materials\", \"Tires\", \"Toys\", \"Diapers\", \"Syringes\", \n",
    "                                     \"Tampons/Tampon Applicators\", \"Hygiene\", \"Glass Pieces\"]]\n",
    "EC_random_mess"
   ]
  },
  {
   "cell_type": "code",
   "execution_count": null,
   "metadata": {},
   "outputs": [],
   "source": [
    "# Group miscellaneous by state\n",
    "\n",
    "EC_random_trash = EC_random_mess.groupby([\"State\"])\n",
    "EC_misc_waste = EC_random_trash.sum()\n",
    "EC_misc_waste"
   ]
  },
  {
   "cell_type": "code",
   "execution_count": null,
   "metadata": {},
   "outputs": [],
   "source": [
    "# Sum plastic columns into new column\n",
    "\n",
    "EC_plastic_count[\"Plastic Waste Total\"] = EC_plastic_count.sum(axis=1)\n",
    "EC_plastic_count"
   ]
  },
  {
   "cell_type": "code",
   "execution_count": null,
   "metadata": {},
   "outputs": [],
   "source": [
    "# Sum foam columns into new column\n",
    "\n",
    "EC_foam_counts[\"Foam Waste Total\"] = EC_foam_counts.sum(axis=1)\n",
    "EC_foam_counts"
   ]
  },
  {
   "cell_type": "code",
   "execution_count": null,
   "metadata": {},
   "outputs": [],
   "source": [
    "# Sum fishing gear columns into new column\n",
    "\n",
    "EC_fishing_counts[\"Fishing Tools Total\"] = EC_fishing_counts.sum(axis=1)\n",
    "EC_fishing_counts"
   ]
  },
  {
   "cell_type": "code",
   "execution_count": null,
   "metadata": {},
   "outputs": [],
   "source": [
    "# Sum smoking waste columns into new column\n",
    "\n",
    "EC_smoking_waste_counts[\"Smoking Waste Total\"] = EC_smoking_waste_counts.sum(axis=1)\n",
    "EC_smoking_waste_counts"
   ]
  },
  {
   "cell_type": "code",
   "execution_count": null,
   "metadata": {},
   "outputs": [],
   "source": [
    "# Sum food misc columns into new column\n",
    "\n",
    "EC_misc_food_waste[\"Miscellaneous Food Waste Total\"] = EC_misc_food_waste.sum(axis=1)\n",
    "EC_misc_food_waste"
   ]
  },
  {
   "cell_type": "code",
   "execution_count": null,
   "metadata": {},
   "outputs": [],
   "source": [
    "# Sum misc columns into new column\n",
    "\n",
    "EC_misc_waste[\"Miscellaneous Waste Total\"] = EC_misc_waste.sum(axis=1)\n",
    "EC_misc_waste"
   ]
  },
  {
   "cell_type": "code",
   "execution_count": null,
   "metadata": {},
   "outputs": [],
   "source": [
    "# Merge all dataframes then delete unnecessary columns\n",
    "\n",
    "EC_plastic_foam = pd.merge(EC_plastic_count, EC_foam_counts, on=\"State\", how=\"left\")\n",
    "EC_fishing_smoking = pd.merge(EC_fishing_counts, EC_smoking_waste_counts, on=\"State\", how=\"left\")\n",
    "EC_miscfood_misc = pd.merge(EC_misc_food_waste, EC_misc_waste, on=\"State\", how=\"left\")\n",
    "EC_four = pd.merge(EC_plastic_foam, EC_fishing_smoking, on=\"State\", how=\"left\")\n",
    "EC_total = pd.merge(EC_four, EC_miscfood_misc, on=\"State\", how=\"left\")\n",
    "\n",
    "EC_grand_total = EC_total.drop(columns = [\"Food Containers (Plastic)\", \"Bottle Caps (Plastic)\", \"Lids (Plastic)\", \n",
    "                                                   \"Straws, Stirrers\", \"Beverage Bottles (Plastic)\", \"Grocery Bags (Plastic)\", \"Other Plastic Bags\", \n",
    "                                                  \"Cups, Plates (Plastic)\", \"6-Pack Holders\", \"Other Plastic Bottles\", \"Condoms\", \"Plastic Pieces\", \n",
    "                                                   \"Food Containers (Foam)\", \"Cups, Plates (Foam)\", \"Other Plastic/Foam Packaging\", \"Foam Pieces\", \n",
    "                                                   \"Fishing Tools\", \"Fishing Nets\", \"Fishing Lines\", \"Fishing Gear\", \"Rope\", \"Cigarette Butts\", \n",
    "                                                   \"Tobacco Packs\", \"Cigar Tips\", \"Cigarette Lighters\", \"Food Wrappers\", \"Forks, Knives, Spoons\", \n",
    "                                                   \"Bottle Caps (Metal)\", \"Beverage Cans\", \"Paper Bags\", \"Cups, Plates (Paper)\", \"Strapping Bands\", \n",
    "                                                   \"Other Packaging\", \"Other Trash\", \"Fireworks\", \"Appliances (refrigerators, washers, etc.)\", \n",
    "                                                   \"# of bags\", \"Construction Materials\", \"Tires\", \"Toys\", \"Diapers\", \"Syringes\", \n",
    "                                                   \"Tampons/Tampon Applicators\", \"Hygiene\", \"Glass Pieces\"])\n",
    "\n",
    "EC_grand_total"
   ]
  },
  {
   "cell_type": "code",
   "execution_count": null,
   "metadata": {},
   "outputs": [],
   "source": [
    "# Merge all columns to new grand total column\n",
    "\n",
    "EC_all_total = EC_grand_total[[\"Plastic Waste Total\", \"Foam Waste Total\", \"Fishing Tools Total\", \n",
    "                         \"Smoking Waste Total\", \"Miscellaneous Food Waste Total\", \"Miscellaneous Waste Total\"]]\n",
    "EC_all_total\n",
    "\n",
    "#EC_total[\"Grand Total\"] = EC_all_total.sum(axis=1)\n",
    "#EC_total"
   ]
  },
  {
   "cell_type": "code",
   "execution_count": null,
   "metadata": {
    "scrolled": true
   },
   "outputs": [],
   "source": [
    "# Columns list\n",
    "\n",
    "plastic_column_list = list(east_coast_renamed)\n",
    "plastic_column_list"
   ]
  },
  {
   "cell_type": "code",
   "execution_count": null,
   "metadata": {},
   "outputs": [],
   "source": [
    "# remove NaNs !!\n",
    "# remove nans first?? \n",
    "\n",
    "#csv in output data folder... \n",
    "#make pie chart per state&coast nonpoint\n",
    "#state and coast data tables\n",
    "#renaming and grouping by types\n",
    "#add total column \n",
    "#clean\n",
    "#renames coast names to EC/WC\n",
    "\n",
    "#look at point vs nonpoint\n",
    "\n",
    "# complete works Fri @4"
   ]
  }
 ],
 "metadata": {
  "kernelspec": {
   "display_name": "Python 3",
   "language": "python",
   "name": "python3"
  },
  "language_info": {
   "codemirror_mode": {
    "name": "ipython",
    "version": 3
   },
   "file_extension": ".py",
   "mimetype": "text/x-python",
   "name": "python",
   "nbconvert_exporter": "python",
   "pygments_lexer": "ipython3",
   "version": "3.7.4"
  }
 },
 "nbformat": 4,
 "nbformat_minor": 2
}
