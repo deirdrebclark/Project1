{
 "cells": [
  {
   "cell_type": "code",
   "execution_count": null,
   "metadata": {},
   "outputs": [],
   "source": [
    "import pandas as pd"
   ]
  },
  {
   "cell_type": "code",
   "execution_count": null,
   "metadata": {},
   "outputs": [],
   "source": [
    "# Set up path to all the summary files. \n",
    "\n",
    "# East coast states \n",
    "maine = \"Resources/Maine_DetailedSummary.csv\"\n",
    "new_hampshire = \"Resources/NewHampshire_DetailedSummary.csv\"\n",
    "massachusetts = \"Resources/Massachusetts_DetailedSummary.csv\"\n",
    "rhode_island = \"Resources/RhodeIsland_DetailedSummary.csv\"\n",
    "connecticut = \"Resources/Connecticut_DetailedSummary.csv\"\n",
    "new_jersey = \"Resources/NewJersey_DetailedSummary.csv\"\n",
    "new_york = \"Resources/NewYork_DetailedSummary.csv\"\n",
    "delaware = \"Resources/Delaware_DetailedSummary.csv\"\n",
    "maryland = \"Resources/Maryland_DetailedSummary.csv\"\n",
    "virginia = \"Resources/Virginia_DetailedSummary.csv\"\n",
    "north_carolina = \"Resources/NorthCarolina_DetailedSummary.csv\"\n",
    "south_carolina = \"Resources/SouthCarolina_DetailedSummary.csv\"\n",
    "georgia = \"Resources/Georgia_DetailedSummary.csv\"\n",
    "florida = \"Resources/Florida_DetailedSummary.csv\"\n",
    "# Gulf states\n",
    "alabama = \"Resources/Alabama_DetailedSummary.csv\"\n",
    "mississippi = \"Resources/Mississippi_DetailedSummary.csv\"\n",
    "louisiana = \"Resources/Louisiana_DetailedSummary.csv\"\n",
    "texas = \"Resources/Texas_DetailedSummary.csv\""
   ]
  },
  {
   "cell_type": "code",
   "execution_count": null,
   "metadata": {},
   "outputs": [],
   "source": [
    "# Read all the summary files. \n",
    "\n",
    "# East coast States\n",
    "maine_pd = pd.read_csv(maine)\n",
    "new_hampshire_pd = pd.read_csv(new_hampshire)\n",
    "massachusetts_pd = pd.read_csv(massachusetts)\n",
    "rhode_island_pd = pd.read_csv(rhode_island)\n",
    "connecticut_pd = pd.read_csv(connecticut)\n",
    "new_jersey_pd = pd.read_csv(new_jersey)\n",
    "new_york_pd = pd.read_csv(new_york)\n",
    "delaware_pd = pd.read_csv(delaware)\n",
    "maryland_pd = pd.read_csv(maryland)\n",
    "virginia_pd = pd.read_csv(virginia)\n",
    "north_carolina_pd = pd.read_csv(north_carolina)\n",
    "south_carolina_pd = pd.read_csv(south_carolina)\n",
    "georgia_pd = pd.read_csv(georgia)\n",
    "florida_pd = pd.read_csv(florida)\n",
    "# Gulf states\n",
    "alabama_pd = pd.read_csv(alabama)\n",
    "mississippi_pd = pd.read_csv(mississippi)\n",
    "louisiana_pd = pd.read_csv(louisiana)\n",
    "texas_pd = pd.read_csv(texas)\n",
    "texas_pd"
   ]
  },
  {
   "cell_type": "code",
   "execution_count": null,
   "metadata": {
    "scrolled": false
   },
   "outputs": [],
   "source": [
    "# Combine all dataframes into one file.\n",
    "\n",
    "east_states = [maine_pd, new_hampshire_pd, massachusetts_pd, rhode_island_pd, connecticut_pd, new_jersey_pd, \n",
    "               new_york_pd, delaware_pd, maryland_pd, virginia_pd, north_carolina_pd, south_carolina_pd, \n",
    "               georgia_pd, florida_pd, alabama_pd, mississippi_pd, louisiana_pd, texas_pd]\n",
    "east_coast = pd.concat(east_states)\n",
    "east_coast.head()"
   ]
  },
  {
   "cell_type": "code",
   "execution_count": null,
   "metadata": {},
   "outputs": [],
   "source": [
    "# Delete unnecessary columns\n",
    "\n",
    "EC_dropped = east_coast.drop(columns = ['Cleanup ID', 'Zone', 'Country', 'Cleanup Date', \n",
    "                                                'Group Name', 'Adults', 'Children', 'People'])\n",
    "EC_dropped.head()"
   ]
  },
  {
   "cell_type": "code",
   "execution_count": null,
   "metadata": {},
   "outputs": [],
   "source": [
    "# Rename long column names to simpler forms\n",
    "\n",
    "EC_named = EC_dropped.rename(columns = {\"Food Wrappers (candy, chips, etc.)\" : \"Food Wrappers\", \"Take Out/Away Containers (Plastic)\" : \"Food Containers (Plastic)\",\n",
    "                                                          \"Take Out/Away Containers (Foam)\" : \"Food Containers (Foam)\", \"Fishing Buoys, Pots & Traps\" : \"Fishing Tools\", \n",
    "                                                          \"Fishing Net & Pieces\" : \"Fishing Nets\", \"Fishing Line (1 yard/meter = 1 piece)\" : \"Fishing Lines\", \n",
    "                                                          \"Rope (1 yard/meter = 1 piece)\" : \"Rope\", \"Fishing Gear (Clean Swell)\" : \"Fishing Gear\", \n",
    "                                                          \"Other Plastic Bottles (oil, bleach, etc.)\" : \"Other Plastic Bottles\", \"Tobacco Packaging/Wrap\" : \"Tobacco Packs\",\n",
    "                                                          \"Other Packaging (Clean Swell)\" : \"Other Packaging\", \"Other Trash (Clean Swell)\" : \"Other Trash\", \n",
    "                                                          \"Personal Hygiene (Clean Swell)\" : \"Hygiene\"})\n",
    "EC_named.head()"
   ]
  },
  {
   "cell_type": "code",
   "execution_count": null,
   "metadata": {},
   "outputs": [],
   "source": [
    "# Group plastic columns\n",
    "\n",
    "EC_plastics = EC_named[[\"State\", \"Food Containers (Plastic)\", \"Bottle Caps (Plastic)\", \"Lids (Plastic)\", \"Straws, Stirrers\", \n",
    "                                          \"Beverage Bottles (Plastic)\", \"Grocery Bags (Plastic)\", \"Other Plastic Bags\", \n",
    "                                          \"Cups, Plates (Plastic)\", \"6-Pack Holders\", \"Other Plastic Bottles\", \n",
    "                                          \"Condoms\", \"Plastic Pieces\"]]\n",
    "EC_plastics.head()"
   ]
  },
  {
   "cell_type": "code",
   "execution_count": null,
   "metadata": {},
   "outputs": [],
   "source": [
    "# Group Plastic pollution by state\n",
    "\n",
    "EC_plastic_group = EC_plastics.groupby([\"State\"])\n",
    "EC_plastic_count = EC_plastic_group.sum()\n",
    "EC_plastic_count"
   ]
  },
  {
   "cell_type": "code",
   "execution_count": null,
   "metadata": {},
   "outputs": [],
   "source": [
    "# Group by foam columns\n",
    "\n",
    "EC_foam_group = EC_named[[\"State\", \"Food Containers (Foam)\", \"Cups, Plates (Foam)\", \n",
    "                                            \"Other Plastic/Foam Packaging\", \"Foam Pieces\"]]\n",
    "EC_foam_group"
   ]
  },
  {
   "cell_type": "code",
   "execution_count": null,
   "metadata": {},
   "outputs": [],
   "source": [
    "# Group Foam pollution by state \n",
    "\n",
    "EC_foam_group = EC_foam_group.groupby([\"State\"])\n",
    "EC_foam_counts = EC_foam_group.sum()\n",
    "EC_foam_counts"
   ]
  },
  {
   "cell_type": "code",
   "execution_count": null,
   "metadata": {},
   "outputs": [],
   "source": [
    "# Group by fishing tools trash\n",
    "\n",
    "EC_fishing = EC_named[[\"State\", \"Fishing Tools\", \"Fishing Nets\", \"Fishing Lines\", \"Fishing Gear\", \"Rope\"]]\n",
    "EC_fishing"
   ]
  },
  {
   "cell_type": "code",
   "execution_count": null,
   "metadata": {},
   "outputs": [],
   "source": [
    "# Group fishing tools trash by state\n",
    "\n",
    "EC_fishing_group = EC_fishing.groupby([\"State\"])\n",
    "EC_fishing_counts = EC_fishing_group.sum()\n",
    "EC_fishing_counts"
   ]
  },
  {
   "cell_type": "code",
   "execution_count": null,
   "metadata": {},
   "outputs": [],
   "source": [
    "# Group by smoking waste\n",
    "\n",
    "EC_smoking_waste = EC_named[[\"State\", \"Cigarette Butts\", \"Tobacco Packs\", \n",
    "                                               \"Cigar Tips\", \"Cigarette Lighters\"]]\n",
    "EC_smoking_waste"
   ]
  },
  {
   "cell_type": "code",
   "execution_count": null,
   "metadata": {},
   "outputs": [],
   "source": [
    "# Group smoking waste by state\n",
    "\n",
    "EC_smoking_waste_group = EC_smoking_waste.groupby([\"State\"])\n",
    "EC_smoking_waste_counts = EC_smoking_waste_group.sum()\n",
    "EC_smoking_waste_counts"
   ]
  },
  {
   "cell_type": "code",
   "execution_count": null,
   "metadata": {},
   "outputs": [],
   "source": [
    "# Group by food miscellaneous\n",
    "\n",
    "EC_food_mess = EC_named[[\"State\", \"Food Wrappers\", \"Forks, Knives, Spoons\", \"Bottle Caps (Metal)\", \n",
    "                                   \"Beverage Cans\", \"Paper Bags\", \"Cups, Plates (Paper)\"]]\n",
    "EC_food_mess"
   ]
  },
  {
   "cell_type": "code",
   "execution_count": null,
   "metadata": {},
   "outputs": [],
   "source": [
    "# Group food miscellaneous by state\n",
    "\n",
    "EC_food_waste = EC_food_mess.groupby([\"State\"])\n",
    "EC_misc_food_waste = EC_food_waste.sum()\n",
    "EC_misc_food_waste"
   ]
  },
  {
   "cell_type": "code",
   "execution_count": null,
   "metadata": {},
   "outputs": [],
   "source": [
    "# Group by miscellaneous\n",
    "\n",
    "EC_random_mess = EC_named[[\"State\", \"Strapping Bands\", \"Other Packaging\", \"Other Trash\", \n",
    "                                     \"Fireworks\", \"Appliances (refrigerators, washers, etc.)\", \"# of bags\",\n",
    "                                     \"Construction Materials\", \"Tires\", \"Toys\", \"Diapers\", \"Syringes\", \n",
    "                                     \"Tampons/Tampon Applicators\", \"Hygiene\", \"Glass Pieces\"]]\n",
    "EC_random_mess"
   ]
  },
  {
   "cell_type": "code",
   "execution_count": null,
   "metadata": {},
   "outputs": [],
   "source": [
    "# Group miscellaneous by state\n",
    "\n",
    "EC_random_trash = EC_random_mess.groupby([\"State\"])\n",
    "EC_misc_waste = EC_random_trash.sum()\n",
    "EC_misc_waste"
   ]
  },
  {
   "cell_type": "code",
   "execution_count": null,
   "metadata": {},
   "outputs": [],
   "source": [
    "# Sum plastic columns into new column\n",
    "\n",
    "EC_plastic_count[\"Plastic Waste\"] = EC_plastic_count.sum(axis=1)\n",
    "EC_plastic_count"
   ]
  },
  {
   "cell_type": "code",
   "execution_count": null,
   "metadata": {},
   "outputs": [],
   "source": [
    "# Sum foam columns into new column\n",
    "\n",
    "EC_foam_counts[\"Foam Waste\"] = EC_foam_counts.sum(axis=1)\n",
    "EC_foam_counts"
   ]
  },
  {
   "cell_type": "code",
   "execution_count": null,
   "metadata": {},
   "outputs": [],
   "source": [
    "# Sum fishing gear columns into new column\n",
    "\n",
    "EC_fishing_counts[\"Fisherman's Waste\"] = EC_fishing_counts.sum(axis=1)\n",
    "EC_fishing_counts"
   ]
  },
  {
   "cell_type": "code",
   "execution_count": null,
   "metadata": {},
   "outputs": [],
   "source": [
    "# Sum smoking waste columns into new column\n",
    "\n",
    "EC_smoking_waste_counts[\"Smoking Waste Items\"] = EC_smoking_waste_counts.sum(axis=1)\n",
    "EC_smoking_waste_counts"
   ]
  },
  {
   "cell_type": "code",
   "execution_count": null,
   "metadata": {},
   "outputs": [],
   "source": [
    "# Sum food misc columns into new column\n",
    "\n",
    "EC_misc_food_waste[\"Misc Food Waste Items\"] = EC_misc_food_waste.sum(axis=1)\n",
    "EC_misc_food_waste"
   ]
  },
  {
   "cell_type": "code",
   "execution_count": null,
   "metadata": {},
   "outputs": [],
   "source": [
    "# Sum misc columns into new column\n",
    "\n",
    "EC_misc_waste[\"Miscellaneous Waste Items\"] = EC_misc_waste.sum(axis=1)\n",
    "EC_misc_waste"
   ]
  },
  {
   "cell_type": "code",
   "execution_count": null,
   "metadata": {},
   "outputs": [],
   "source": [
    "# Merge all dataframes then delete unnecessary columns\n",
    "\n",
    "EC_plastic_foam = pd.merge(EC_plastic_count, EC_foam_counts, on=\"State\", how=\"left\")\n",
    "EC_fishing_smoking = pd.merge(EC_fishing_counts, EC_smoking_waste_counts, on=\"State\", how=\"left\")\n",
    "EC_miscfood_misc = pd.merge(EC_misc_food_waste, EC_misc_waste, on=\"State\", how=\"left\")\n",
    "EC_four = pd.merge(EC_plastic_foam, EC_fishing_smoking, on=\"State\", how=\"left\")\n",
    "EC_total = pd.merge(EC_four, EC_miscfood_misc, on=\"State\", how=\"left\")\n",
    "\n",
    "EC_grand_total = EC_total.drop(columns = [\"Food Containers (Plastic)\", \"Bottle Caps (Plastic)\", \"Lids (Plastic)\", \n",
    "                                                   \"Straws, Stirrers\", \"Beverage Bottles (Plastic)\", \"Grocery Bags (Plastic)\", \"Other Plastic Bags\", \n",
    "                                                  \"Cups, Plates (Plastic)\", \"6-Pack Holders\", \"Other Plastic Bottles\", \"Condoms\", \"Plastic Pieces\", \n",
    "                                                   \"Food Containers (Foam)\", \"Cups, Plates (Foam)\", \"Other Plastic/Foam Packaging\", \"Foam Pieces\", \n",
    "                                                   \"Fishing Tools\", \"Fishing Nets\", \"Fishing Lines\", \"Fishing Gear\", \"Rope\", \"Cigarette Butts\", \n",
    "                                                   \"Tobacco Packs\", \"Cigar Tips\", \"Cigarette Lighters\", \"Food Wrappers\", \"Forks, Knives, Spoons\", \n",
    "                                                   \"Bottle Caps (Metal)\", \"Beverage Cans\", \"Paper Bags\", \"Cups, Plates (Paper)\", \"Strapping Bands\", \n",
    "                                                   \"Other Packaging\", \"Other Trash\", \"Fireworks\", \"Appliances (refrigerators, washers, etc.)\", \n",
    "                                                   \"# of bags\", \"Construction Materials\", \"Tires\", \"Toys\", \"Diapers\", \"Syringes\", \n",
    "                                                   \"Tampons/Tampon Applicators\", \"Hygiene\", \"Glass Pieces\"])\n",
    "\n",
    "EC_grand_total"
   ]
  },
  {
   "cell_type": "code",
   "execution_count": null,
   "metadata": {
    "scrolled": true
   },
   "outputs": [],
   "source": [
    "# Saving new data table to CSV\n",
    "EC_grand_total.to_csv(\"Resources/EC_Litter.csv\", index=True)"
   ]
  },
  {
   "cell_type": "code",
   "execution_count": null,
   "metadata": {},
   "outputs": [],
   "source": []
  }
 ],
 "metadata": {
  "kernelspec": {
   "display_name": "Python 3",
   "language": "python",
   "name": "python3"
  },
  "language_info": {
   "codemirror_mode": {
    "name": "ipython",
    "version": 3
   },
   "file_extension": ".py",
   "mimetype": "text/x-python",
   "name": "python",
   "nbconvert_exporter": "python",
   "pygments_lexer": "ipython3",
   "version": "3.7.3"
  }
 },
 "nbformat": 4,
 "nbformat_minor": 2
}
