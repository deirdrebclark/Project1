{
 "cells": [
  {
   "cell_type": "code",
   "execution_count": null,
   "metadata": {},
   "outputs": [],
   "source": [
    "import pandas as pd"
   ]
  },
  {
   "cell_type": "code",
   "execution_count": null,
   "metadata": {},
   "outputs": [],
   "source": [
    "# Creating links to sources\n",
    "alaska = \"Resources/Alaska_Detailed_Summary.csv\"\n",
    "california = \"Resources/California_Detailed_Summary.csv\"\n",
    "hawaii = \"Resources/Hawaii_Detailed_Summary.csv\"\n",
    "oregon = \"Resources/Oregon_Detailed_Summary.csv\"\n",
    "washington = \"Resources/Washington_Detailed_Summary.csv\"\n",
    "\n",
    "East_Coast_Waste = \"Resources/EC_Litter.csv\"\n",
    "West_Coast_Waste = \"Resources/WC_Litter.csv\""
   ]
  },
  {
   "cell_type": "code",
   "execution_count": null,
   "metadata": {},
   "outputs": [],
   "source": [
    "alaska_pd = pd.read_csv(alaska)\n",
    "california_pd = pd.read_csv(california)\n",
    "hawaii_pd = pd.read_csv(hawaii)\n",
    "oregon_pd = pd.read_csv(oregon)\n",
    "washington_pd = pd.read_csv(washington)\n",
    "\n",
    "East_Coast_Waste = pd.read_csv(East_Coast_Waste)\n",
    "West_Coast_Waste = pd.read_csv(West_Coast_Waste)"
   ]
  },
  {
   "cell_type": "code",
   "execution_count": null,
   "metadata": {},
   "outputs": [],
   "source": [
    "East_Coast_Waste.head()"
   ]
  },
  {
   "cell_type": "code",
   "execution_count": null,
   "metadata": {},
   "outputs": [],
   "source": [
    "West_Coast_Waste.head()"
   ]
  },
  {
   "cell_type": "code",
   "execution_count": null,
   "metadata": {},
   "outputs": [],
   "source": [
    "w_states = [alaska_pd, california_pd, hawaii_pd, oregon_pd, washington_pd]\n",
    "west_coast = pd.concat(w_states)\n",
    "west_coast.head()"
   ]
  },
  {
   "cell_type": "code",
   "execution_count": null,
   "metadata": {},
   "outputs": [],
   "source": [
    "west_coast_edit = west_coast.drop(columns=['Cleanup ID', 'Zone', 'Country', 'Cleanup Date', 'Group Name', 'Adults', 'Children', 'People'])\n",
    "west_coast_edit"
   ]
  },
  {
   "cell_type": "code",
   "execution_count": null,
   "metadata": {},
   "outputs": [],
   "source": [
    "west_coast_renamed = west_coast_edit.rename(columns = {\"Food Wrappers (candy, chips, etc.)\" : \"Food Wrappers\", \"Take Out/Away Containers (Plastic)\" : \"Food Containers (Plastic)\", \"Take Out/Away Containers (Foam)\" : \"Food Containers (Foam)\", \"Fishing Buoys, Pots & Traps\" : \"Fishing Tools\", \"Fishing Net & Pieces\" : \"Fishing Nets\", \"Fishing Line (1 yard/meter = 1 piece)\" : \"Fishing Lines\", \"Rope (1 yard/meter = 1 piece)\" : \"Rope\", \"Fishing Gear (Clean Swell)\" : \"Fishing Gear\", \"Other Plastic Bottles (oil, bleach, etc.)\" : \"Other Plastic Bottles\", \"Tobacco Packaging/Wrap\" : \"Tobacco Packs\", \"Other Packaging (Clean Swell)\" : \"Other Packaging\", \"Other Trash (Clean Swell)\" : \"Other Trash\", \"Personal Hygiene (Clean Swell)\" : \"Hygiene\"})\n",
    "west_coast_renamed"
   ]
  },
  {
   "cell_type": "code",
   "execution_count": null,
   "metadata": {},
   "outputs": [],
   "source": [
    "# List out all our remaining columns\n",
    "column_list = list(west_coast_renamed)\n",
    "column_list"
   ]
  },
  {
   "cell_type": "code",
   "execution_count": null,
   "metadata": {},
   "outputs": [],
   "source": [
    "# Group all our plastic items and then call them into a data frame together based by State\n",
    "plastic_group = west_coast_renamed[[\"State\", \"Food Containers (Plastic)\", \"Bottle Caps (Plastic)\", \"Lids (Plastic)\", \"Straws, Stirrers\",\n",
    "                                          \"Beverage Bottles (Plastic)\", \"Grocery Bags (Plastic)\", \"Other Plastic Bags\",\n",
    "                                          \"Cups, Plates (Plastic)\", \"6-Pack Holders\", \"Other Plastic Bottles\", \"Condoms\", \"Plastic Pieces\"]]\n",
    "plastic_group.head()"
   ]
  },
  {
   "cell_type": "code",
   "execution_count": null,
   "metadata": {},
   "outputs": [],
   "source": [
    "plastic_grouping = plastic_group.groupby([\"State\"])\n",
    "WC_plastic_count = plastic_grouping.sum()\n",
    "WC_plastic_count.head()"
   ]
  },
  {
   "cell_type": "code",
   "execution_count": null,
   "metadata": {},
   "outputs": [],
   "source": [
    "# Create a Subtotal Column for Plastics collected in the data frame\n",
    "WC_plastic_count[\"Plastic Waste\"]  = WC_plastic_count.sum(axis=1)\n",
    "WC_plastic_count"
   ]
  },
  {
   "cell_type": "code",
   "execution_count": null,
   "metadata": {},
   "outputs": [],
   "source": [
    "# Before grouping all the foam together, call forward all foam items\n",
    "west_coast_group = west_coast_renamed[[\"State\", \"Food Containers (Foam)\", \"Cups, Plates (Foam)\", \"Other Plastic/Foam Packaging\", \"Foam Pieces\"]]\n",
    "west_coast_group"
   ]
  },
  {
   "cell_type": "code",
   "execution_count": null,
   "metadata": {},
   "outputs": [],
   "source": [
    "# Grouping foam pieces together\n",
    "foam_group = west_coast_group.groupby([\"State\"])\n",
    "WC_foam_counts = foam_group.sum()\n",
    "WC_foam_counts"
   ]
  },
  {
   "cell_type": "code",
   "execution_count": null,
   "metadata": {},
   "outputs": [],
   "source": [
    "# Create a Subtotal Column for Foam Items collected in the data frame\n",
    "WC_foam_counts[\"Foam Waste\"]  = WC_foam_counts.sum(axis=1)\n",
    "WC_foam_counts"
   ]
  },
  {
   "cell_type": "code",
   "execution_count": null,
   "metadata": {},
   "outputs": [],
   "source": [
    "# Repeating the same process, now we'll group the fishing \n",
    "west_coast_fishing = west_coast_renamed[[\"State\", \"Fishing Tools\", \"Fishing Nets\", \"Fishing Lines\", \"Fishing Gear\", \"Rope\"]]\n",
    "west_coast_fishing"
   ]
  },
  {
   "cell_type": "code",
   "execution_count": null,
   "metadata": {},
   "outputs": [],
   "source": [
    "# Grouping Foam Pieces together\n",
    "fishing_group = west_coast_fishing.groupby([\"State\"])\n",
    "WC_fishing_counts = fishing_group.sum()\n",
    "WC_fishing_counts"
   ]
  },
  {
   "cell_type": "code",
   "execution_count": null,
   "metadata": {},
   "outputs": [],
   "source": [
    "# Create a Subtotal Column for Plastics collected in the data frame\n",
    "WC_fishing_counts[\"Fisherman's Waste\"]  = WC_fishing_counts.sum(axis=1)\n",
    "WC_fishing_counts"
   ]
  },
  {
   "cell_type": "code",
   "execution_count": null,
   "metadata": {},
   "outputs": [],
   "source": [
    "# Same process with Misc\n",
    "random_mess = west_coast_renamed[[\"State\", \"Strapping Bands\", \"Other Packaging\", \"Other Trash\", \"Fireworks\", \"Appliances (refrigerators, washers, etc.)\", \"# of bags\", \"Construction Materials\", \"Tires\", \"Toys\", \"Diapers\", \"Syringes\", \"Tampons/Tampon Applicators\", \"Hygiene\", \"Glass Pieces\"]]\n",
    "random_mess"
   ]
  },
  {
   "cell_type": "code",
   "execution_count": null,
   "metadata": {},
   "outputs": [],
   "source": [
    "random_trash = random_mess.groupby([\"State\"])\n",
    "WC_misc_waste = random_trash.sum()\n",
    "WC_misc_waste"
   ]
  },
  {
   "cell_type": "code",
   "execution_count": null,
   "metadata": {},
   "outputs": [],
   "source": [
    "# Create a Subtotal Column for Miscellaneous items collected in the data frame\n",
    "WC_misc_waste[\"Miscellaneous Waste Items\"] = WC_misc_waste.sum(axis=1)\n",
    "WC_misc_waste"
   ]
  },
  {
   "cell_type": "code",
   "execution_count": null,
   "metadata": {},
   "outputs": [],
   "source": [
    "west_coast_smoking_waste = west_coast_renamed[[\"State\", \"Cigarette Butts\", \"Tobacco Packs\", \"Cigar Tips\", \"Cigarette Lighters\", ]]\n",
    "west_coast_smoking_waste"
   ]
  },
  {
   "cell_type": "code",
   "execution_count": null,
   "metadata": {},
   "outputs": [],
   "source": [
    "smoking_waste_group = west_coast_smoking_waste.groupby([\"State\"])\n",
    "WC_smoking_waste_counts = smoking_waste_group.sum()\n",
    "WC_smoking_waste_counts"
   ]
  },
  {
   "cell_type": "code",
   "execution_count": null,
   "metadata": {},
   "outputs": [],
   "source": [
    "# Create a Subtotal Column for Plastics collected in the data frame\n",
    "WC_smoking_waste_counts[\"Smoking Waste Items\"]  = WC_smoking_waste_counts.sum(axis=1)\n",
    "WC_smoking_waste_counts"
   ]
  },
  {
   "cell_type": "code",
   "execution_count": null,
   "metadata": {},
   "outputs": [],
   "source": [
    "food_mess = west_coast_renamed[[\"State\", \"Food Wrappers\", \"Forks, Knives, Spoons\", \"Bottle Caps (Metal)\", \"Beverage Cans\", \"Paper Bags\", \"Cups, Plates (Paper)\"]]\n",
    "food_mess"
   ]
  },
  {
   "cell_type": "code",
   "execution_count": null,
   "metadata": {},
   "outputs": [],
   "source": [
    "food_waste = food_mess.groupby([\"State\"])\n",
    "WC_misc_food_waste = food_waste.sum()\n",
    "WC_misc_food_waste"
   ]
  },
  {
   "cell_type": "code",
   "execution_count": null,
   "metadata": {},
   "outputs": [],
   "source": [
    "# Create a Subtotal Column for Plastics collected in the data frame\n",
    "WC_misc_food_waste[\"Misc Food Waste Items\"]  = WC_misc_food_waste.sum(axis=1)\n",
    "WC_misc_food_waste"
   ]
  },
  {
   "cell_type": "code",
   "execution_count": null,
   "metadata": {},
   "outputs": [],
   "source": [
    "# Merge\n",
    "WC_plastic_foam = pd.merge(WC_plastic_count, WC_foam_counts, on=\"State\", how=\"left\")\n",
    "WC_fishing_smoking = pd.merge(WC_fishing_counts, WC_smoking_waste_counts, on=\"State\", how=\"left\")\n",
    "WC_miscfood_misc = pd.merge(WC_misc_food_waste, WC_misc_waste, on=\"State\", how=\"left\")\n",
    "WC_four = pd.merge(WC_plastic_foam, WC_fishing_smoking, on=\"State\", how=\"left\")\n",
    "WC_total = pd.merge(WC_four, WC_miscfood_misc, on=\"State\", how=\"left\")\n",
    "WC_grand_total = WC_total.drop(columns = [\"Food Containers (Plastic)\", \"Bottle Caps (Plastic)\", \"Lids (Plastic)\", \n",
    "                                                   \"Straws, Stirrers\", \"Beverage Bottles (Plastic)\", \"Grocery Bags (Plastic)\", \"Other Plastic Bags\", \n",
    "                                                  \"Cups, Plates (Plastic)\", \"6-Pack Holders\", \"Other Plastic Bottles\", \"Condoms\", \"Plastic Pieces\", \n",
    "                                                   \"Food Containers (Foam)\", \"Cups, Plates (Foam)\", \"Other Plastic/Foam Packaging\", \"Foam Pieces\", \n",
    "                                                   \"Fishing Tools\", \"Fishing Nets\", \"Fishing Lines\", \"Fishing Gear\", \"Rope\", \"Cigarette Butts\", \n",
    "                                                   \"Tobacco Packs\", \"Cigar Tips\", \"Cigarette Lighters\", \"Food Wrappers\", \"Forks, Knives, Spoons\", \n",
    "                                                   \"Bottle Caps (Metal)\", \"Beverage Cans\", \"Paper Bags\", \"Cups, Plates (Paper)\", \"Strapping Bands\", \n",
    "                                                   \"Other Packaging\", \"Other Trash\", \"Fireworks\", \"Appliances (refrigerators, washers, etc.)\", \n",
    "                                                   \"# of bags\", \"Construction Materials\", \"Tires\", \"Toys\", \"Diapers\", \"Syringes\", \n",
    "                                                   \"Tampons/Tampon Applicators\", \"Hygiene\", \"Glass Pieces\"])\n",
    "WC_grand_total"
   ]
  },
  {
   "cell_type": "code",
   "execution_count": null,
   "metadata": {},
   "outputs": [],
   "source": [
    "# Saving West Coast Data to CSV\n",
    "WC_grand_total.to_csv(\"Resources/WC_Litter.csv\", index=True)"
   ]
  },
  {
   "cell_type": "code",
   "execution_count": null,
   "metadata": {},
   "outputs": [],
   "source": [
    "# Working on Merging both EC & WC Data\n",
    "East_West_Litter = pd.concat([West_Coast_Waste, East_Coast_Waste], axis=0, join=\"outer\")\n",
    "East_West_Litter"
   ]
  },
  {
   "cell_type": "code",
   "execution_count": null,
   "metadata": {},
   "outputs": [],
   "source": [
    "Combo_Data = [West_Coast_Waste, East_Coast_Waste]"
   ]
  },
  {
   "cell_type": "code",
   "execution_count": null,
   "metadata": {
    "scrolled": true
   },
   "outputs": [],
   "source": [
    "East_West_Litter = pd.concat(Combo_Data, keys=['West Coast', 'East Coast']).reset_index()\n",
    "East_West_Litter"
   ]
  },
  {
   "cell_type": "code",
   "execution_count": null,
   "metadata": {},
   "outputs": [],
   "source": [
    "East_West_Litter = East_West_Litter.drop(columns=['level_1'])\n",
    "East_West_Litter"
   ]
  },
  {
   "cell_type": "code",
   "execution_count": null,
   "metadata": {},
   "outputs": [],
   "source": [
    "# Saving Overall Data together\n",
    "East_West_Litter.to_csv(\"output_data/Bicoastal_Litter.csv\", index=True)"
   ]
  },
  {
   "cell_type": "code",
   "execution_count": null,
   "metadata": {},
   "outputs": [],
   "source": []
  }
 ],
 "metadata": {
  "kernelspec": {
   "display_name": "Python 3",
   "language": "python",
   "name": "python3"
  },
  "language_info": {
   "codemirror_mode": {
    "name": "ipython",
    "version": 3
   },
   "file_extension": ".py",
   "mimetype": "text/x-python",
   "name": "python",
   "nbconvert_exporter": "python",
   "pygments_lexer": "ipython3",
   "version": "3.7.3"
  }
 },
 "nbformat": 4,
 "nbformat_minor": 2
}
