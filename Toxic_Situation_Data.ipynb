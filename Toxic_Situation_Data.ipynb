{
 "cells": [
  {
   "cell_type": "code",
   "execution_count": null,
   "metadata": {},
   "outputs": [],
   "source": [
    "# Dependencies and Setup\n",
    "import matplotlib.pyplot as plt\n",
    "import pandas as pd\n",
    "import numpy as np\n",
    "import requests\n",
    "import time\n",
    "from scipy.stats import linregress\n",
    "from pprint import pprint\n",
    "import json\n",
    "from config import bea_key\n"
   ]
  },
  {
   "cell_type": "code",
   "execution_count": null,
   "metadata": {},
   "outputs": [],
   "source": [
    "# West coast data pull\n",
    "geofips_w = ['AK','CA','HI','OR','WA']\n",
    "\n",
    "params= {'UserID' : bea_key,\n",
    "        'method' : 'GetData',\n",
    "        'datasetname' : 'Regional',\n",
    "        'TableName' : 'SAGDP2N',\n",
    "        'GeoFIPS' : None,\n",
    "        'LineCode' : '1',\n",
    "        'Frequency' : 'A',\n",
    "        'Year' : 'LAST5'\n",
    "        }\n",
    "# \"Per capita real GDP by state (NAICS)\" Key=\"SAGDP10N\"\n",
    "# \"Gross domestic product (GDP) by state (NAICS)\" Key=\"SAGDP2N\"\n",
    "# \"Real GDP by state (NAICS)\" Key=\"SAGDP9N\"\n",
    "\n",
    "url = 'https://apps.bea.gov/api/data?'\n",
    "df = pd.DataFrame()\n",
    "\n",
    "for index in geofips_w:\n",
    "    params['GeoFIPS'] = index\n",
    "    response = requests.get(url, params = params).json()\n",
    "    print('...')\n",
    "    GDP_value1 = response['BEAAPI']['Results']['Data'][0]['DataValue']\n",
    "    GDP_year1 = response['BEAAPI']['Results']['Data'][0]['TimePeriod']\n",
    "    GDP_value2 = response['BEAAPI']['Results']['Data'][1]['DataValue']\n",
    "    GDP_year2 = response['BEAAPI']['Results']['Data'][1]['TimePeriod']\n",
    "    GDP_value3 = response['BEAAPI']['Results']['Data'][2]['DataValue']\n",
    "    GDP_year3 = response['BEAAPI']['Results']['Data'][2]['TimePeriod']\n",
    "    GDP_value4 = response['BEAAPI']['Results']['Data'][3]['DataValue']\n",
    "    GDP_year4 = response['BEAAPI']['Results']['Data'][3]['TimePeriod']\n",
    "    GDP_value5 = response['BEAAPI']['Results']['Data'][4]['DataValue']\n",
    "    GDP_year5 = response['BEAAPI']['Results']['Data'][4]['TimePeriod']\n",
    "    print(f'Got sets...')\n",
    "    series = {GDP_year1: GDP_value1, \n",
    "              GDP_year2: GDP_value2, \n",
    "              GDP_year3: GDP_value3, \n",
    "              GDP_year4: GDP_value4, \n",
    "              GDP_year5: GDP_value5}\n",
    "    print(series)\n",
    "    df = df.append(series, ignore_index=True)\n",
    "print('Done!') \n"
   ]
  },
  {
   "cell_type": "code",
   "execution_count": null,
   "metadata": {},
   "outputs": [],
   "source": [
    "# East coast data pull\n",
    "geofips_e = ['AL','MS','ME','NY','VA','LA', 'MA', 'MD','FL','GA','TX','NC','SC', 'NH', 'NJ','CT', 'DE', 'RI']\n",
    "\n",
    "df2 = pd.DataFrame()\n",
    "\n",
    "for index in geofips_e:\n",
    "    params['GeoFIPS'] = index\n",
    "    response = requests.get(url, params = params).json()\n",
    "    print('...')\n",
    "    GDP_value1 = response['BEAAPI']['Results']['Data'][0]['DataValue']\n",
    "    GDP_year1 = response['BEAAPI']['Results']['Data'][0]['TimePeriod']\n",
    "    GDP_value2 = response['BEAAPI']['Results']['Data'][1]['DataValue']\n",
    "    GDP_year2 = response['BEAAPI']['Results']['Data'][1]['TimePeriod']\n",
    "    GDP_value3 = response['BEAAPI']['Results']['Data'][2]['DataValue']\n",
    "    GDP_year3 = response['BEAAPI']['Results']['Data'][2]['TimePeriod']\n",
    "    GDP_value4 = response['BEAAPI']['Results']['Data'][3]['DataValue']\n",
    "    GDP_year4 = response['BEAAPI']['Results']['Data'][3]['TimePeriod']\n",
    "    GDP_value5 = response['BEAAPI']['Results']['Data'][4]['DataValue']\n",
    "    GDP_year5 = response['BEAAPI']['Results']['Data'][4]['TimePeriod']\n",
    "    print(f'Got sets...')\n",
    "    series = {GDP_year1: GDP_value1, \n",
    "              GDP_year2: GDP_value2, \n",
    "              GDP_year3: GDP_value3, \n",
    "              GDP_year4: GDP_value4, \n",
    "              GDP_year5: GDP_value5}\n",
    "    print(series)\n",
    "    df2 = df2.append(series, ignore_index=True)\n",
    "print('Done!')"
   ]
  },
  {
   "cell_type": "code",
   "execution_count": null,
   "metadata": {},
   "outputs": [],
   "source": [
    "# Transform and rename columns\n",
    "\n",
    "df = df.T\n",
    "df.columns = ['AK','CA','HI','OR','WA']\n",
    "df = df.T\n",
    "df\n",
    "\n",
    "df2 = df2.T\n",
    "df2.columns =  ['AL','MS','ME','NY','VA','LA', 'MA', 'MD','FL','GA','TX','NC','SC', 'NH', 'NJ','CT', 'DE', 'RI']\n",
    "df2 = df2.T\n",
    "df2"
   ]
  },
  {
   "cell_type": "code",
   "execution_count": null,
   "metadata": {},
   "outputs": [],
   "source": [
    "# Save the dataframe to a CSV\n",
    "df.to_csv(\"Resources/GDP_West.csv\", index=True)\n",
    "\n",
    "df2.to_csv(\"Resources/GDP_East.csv\", index=True)"
   ]
  }
 ],
 "metadata": {
  "kernelspec": {
   "display_name": "Python 3",
   "language": "python",
   "name": "python3"
  },
  "language_info": {
   "codemirror_mode": {
    "name": "ipython",
    "version": 3
   },
   "file_extension": ".py",
   "mimetype": "text/x-python",
   "name": "python",
   "nbconvert_exporter": "python",
   "pygments_lexer": "ipython3",
   "version": "3.7.4"
  }
 },
 "nbformat": 4,
 "nbformat_minor": 2
}
