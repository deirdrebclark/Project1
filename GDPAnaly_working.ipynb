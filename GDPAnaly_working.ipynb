{
 "cells": [
  {
   "cell_type": "code",
   "execution_count": 1,
   "metadata": {},
   "outputs": [],
   "source": [
    "# Dependencies and Setup\n",
    "import matplotlib.pyplot as plt\n",
    "import pandas as pd\n",
    "import numpy as np\n",
    "import requests\n",
    "import time\n",
    "from scipy.stats import linregress\n",
    "from pprint import pprint\n",
    "import json"
   ]
  },
  {
   "cell_type": "code",
   "execution_count": 44,
   "metadata": {},
   "outputs": [
    {
     "data": {
      "text/html": [
       "<div>\n",
       "<style scoped>\n",
       "    .dataframe tbody tr th:only-of-type {\n",
       "        vertical-align: middle;\n",
       "    }\n",
       "\n",
       "    .dataframe tbody tr th {\n",
       "        vertical-align: top;\n",
       "    }\n",
       "\n",
       "    .dataframe thead th {\n",
       "        text-align: right;\n",
       "    }\n",
       "</style>\n",
       "<table border=\"1\" class=\"dataframe\">\n",
       "  <thead>\n",
       "    <tr style=\"text-align: right;\">\n",
       "      <th></th>\n",
       "      <th>East Coast</th>\n",
       "      <th>West Coast</th>\n",
       "    </tr>\n",
       "  </thead>\n",
       "  <tbody>\n",
       "    <tr>\n",
       "      <th>2014</th>\n",
       "      <td>7.86439e+06</td>\n",
       "      <td>3.15962e+06</td>\n",
       "    </tr>\n",
       "    <tr>\n",
       "      <th>2015</th>\n",
       "      <td>8.15827e+06</td>\n",
       "      <td>3.36061e+06</td>\n",
       "    </tr>\n",
       "    <tr>\n",
       "      <th>2016</th>\n",
       "      <td>8.36352e+06</td>\n",
       "      <td>3.49941e+06</td>\n",
       "    </tr>\n",
       "    <tr>\n",
       "      <th>2017</th>\n",
       "      <td>8.72348e+06</td>\n",
       "      <td>3.71178e+06</td>\n",
       "    </tr>\n",
       "    <tr>\n",
       "      <th>2018</th>\n",
       "      <td>9.19033e+06</td>\n",
       "      <td>3.95188e+06</td>\n",
       "    </tr>\n",
       "  </tbody>\n",
       "</table>\n",
       "</div>"
      ],
      "text/plain": [
       "       East Coast   West Coast\n",
       "2014  7.86439e+06  3.15962e+06\n",
       "2015  8.15827e+06  3.36061e+06\n",
       "2016  8.36352e+06  3.49941e+06\n",
       "2017  8.72348e+06  3.71178e+06\n",
       "2018  9.19033e+06  3.95188e+06"
      ]
     },
     "execution_count": 44,
     "metadata": {},
     "output_type": "execute_result"
    }
   ],
   "source": [
    "# Read in the east coast GDP CSV\n",
    "csv_file = pd.read_csv('https://media.githubusercontent.com/media/deirdrebclark/Project1/master/output_data/GDP_East.csv', thousands=',')\n",
    "east_data = pd.DataFrame(csv_file)\n",
    "east_data\n",
    "east_data.columns = ['State', '2014', '2015', '2016', '2017', '2018']\n",
    "\n",
    "# Sum total of east coast GDP per year\n",
    "east_sum = east_data.sum()\n",
    "\n",
    "# Read in the west coast GDP CSV\n",
    "csv_file = pd.read_csv('https://media.githubusercontent.com/media/deirdrebclark/Project1/master/output_data/GDP_West.csv', thousands=',')\n",
    "west_data = pd.DataFrame(csv_file)\n",
    "west_data.columns = ['State', '2014', '2015', '2016', '2017', '2018']\n",
    "\n",
    "# Sum total of west coast GDP per year\n",
    "west_sum = west_data.sum()\n",
    "west_df = pd.DataFrame(west_sum)\n",
    "\n",
    "# Combine the two into a total GDP summary table\n",
    "sum_df = pd.DataFrame(east_sum)\n",
    "sum_df.columns = ['East Coast']\n",
    "sums_df = sum_df.join(west_df)\n",
    "sums_df.columns = ['East Coast', 'West Coast']\n",
    "sums_df = sums_df.T\n",
    "del sums_df['State']\n",
    "sums_df\n",
    "\n",
    "# Transform GDP Summary table for readability\n",
    "sums_df = sums_df.T\n",
    "sums_df"
   ]
  },
  {
   "cell_type": "code",
   "execution_count": 7,
   "metadata": {},
   "outputs": [
    {
     "data": {
      "image/png": "[encoded data removed]",
      "text/plain": [
       "<Figure size 432x288 with 1 Axes>"
      ]
     },
     "metadata": {
      "needs_background": "light"
     },
     "output_type": "display_data"
    }
   ],
   "source": [
    "# Summary East v West coast bar plot\n",
    "\n",
    "labels = ['2014', '2015', '2016', '2017', '2018']\n",
    "\n",
    "x = np.arange(len(labels))  # the label locations\n",
    "width = 0.35  # the width of the bars\n",
    "\n",
    "fig, ax = plt.subplots()\n",
    "rects1 = ax.bar(x - width/2, sums_df['East Coast'], width, label='East Coast')\n",
    "rects2 = ax.bar(x + width/2, sums_df['West Coast'], width, label='West Coast')\n",
    "\n",
    "# Add some text for labels, title and custom x-axis tick labels, etc.\n",
    "ax.set_ylabel('Total GDP in Millions of USD')\n",
    "ax.set_title('Summary of GDP on Each Coast by Year')\n",
    "ax.set_xticks(x)\n",
    "ax.set_xticklabels(labels)\n",
    "ax.legend()\n",
    "plt.show()"
   ]
  },
  {
   "cell_type": "code",
   "execution_count": 20,
   "metadata": {},
   "outputs": [],
   "source": [
    "# Look at pollution data\n",
    "csv_file = pd.read_csv('https://media.githubusercontent.com/media/deirdrebclark/Project1/master/output_data/Bicoastal_Litter.csv')\n",
    "litter_df = pd.DataFrame(csv_file)"
   ]
  },
  {
   "cell_type": "code",
   "execution_count": 24,
   "metadata": {},
   "outputs": [
    {
     "data": {
      "text/html": [
       "<div>\n",
       "<style scoped>\n",
       "    .dataframe tbody tr th:only-of-type {\n",
       "        vertical-align: middle;\n",
       "    }\n",
       "\n",
       "    .dataframe tbody tr th {\n",
       "        vertical-align: top;\n",
       "    }\n",
       "\n",
       "    .dataframe thead th {\n",
       "        text-align: right;\n",
       "    }\n",
       "</style>\n",
       "<table border=\"1\" class=\"dataframe\">\n",
       "  <thead>\n",
       "    <tr style=\"text-align: right;\">\n",
       "      <th></th>\n",
       "      <th>level_0</th>\n",
       "      <th>State</th>\n",
       "      <th>Plastic Waste</th>\n",
       "      <th>Foam Waste</th>\n",
       "      <th>Fisherman's Waste</th>\n",
       "      <th>Smoking Waste Items</th>\n",
       "      <th>Misc Food Waste Items</th>\n",
       "      <th>Miscellaneous Waste Items</th>\n",
       "    </tr>\n",
       "  </thead>\n",
       "  <tbody>\n",
       "    <tr>\n",
       "      <th>0</th>\n",
       "      <td>West Coast</td>\n",
       "      <td>Alaska, USA</td>\n",
       "      <td>17089</td>\n",
       "      <td>17001</td>\n",
       "      <td>4451</td>\n",
       "      <td>11356</td>\n",
       "      <td>10504</td>\n",
       "      <td>13506.0</td>\n",
       "    </tr>\n",
       "    <tr>\n",
       "      <th>1</th>\n",
       "      <td>West Coast</td>\n",
       "      <td>California, USA</td>\n",
       "      <td>1513814</td>\n",
       "      <td>439899</td>\n",
       "      <td>45287</td>\n",
       "      <td>838130</td>\n",
       "      <td>646930</td>\n",
       "      <td>463359.0</td>\n",
       "    </tr>\n",
       "    <tr>\n",
       "      <th>2</th>\n",
       "      <td>West Coast</td>\n",
       "      <td>Hawaii, USA</td>\n",
       "      <td>162594</td>\n",
       "      <td>27640</td>\n",
       "      <td>22564</td>\n",
       "      <td>92206</td>\n",
       "      <td>44719</td>\n",
       "      <td>46293.0</td>\n",
       "    </tr>\n",
       "    <tr>\n",
       "      <th>3</th>\n",
       "      <td>West Coast</td>\n",
       "      <td>Oregon, USA</td>\n",
       "      <td>109147</td>\n",
       "      <td>23946</td>\n",
       "      <td>4098</td>\n",
       "      <td>29913</td>\n",
       "      <td>18316</td>\n",
       "      <td>14395.0</td>\n",
       "    </tr>\n",
       "    <tr>\n",
       "      <th>4</th>\n",
       "      <td>West Coast</td>\n",
       "      <td>Washington, USA</td>\n",
       "      <td>98557</td>\n",
       "      <td>40371</td>\n",
       "      <td>10013</td>\n",
       "      <td>67107</td>\n",
       "      <td>40412</td>\n",
       "      <td>41235.0</td>\n",
       "    </tr>\n",
       "  </tbody>\n",
       "</table>\n",
       "</div>"
      ],
      "text/plain": [
       "      level_0            State  Plastic Waste  Foam Waste  Fisherman's Waste  \\\n",
       "0  West Coast      Alaska, USA          17089       17001               4451   \n",
       "1  West Coast  California, USA        1513814      439899              45287   \n",
       "2  West Coast      Hawaii, USA         162594       27640              22564   \n",
       "3  West Coast      Oregon, USA         109147       23946               4098   \n",
       "4  West Coast  Washington, USA          98557       40371              10013   \n",
       "\n",
       "   Smoking Waste Items  Misc Food Waste Items  Miscellaneous Waste Items  \n",
       "0                11356                  10504                    13506.0  \n",
       "1               838130                 646930                   463359.0  \n",
       "2                92206                  44719                    46293.0  \n",
       "3                29913                  18316                    14395.0  \n",
       "4                67107                  40412                    41235.0  "
      ]
     },
     "execution_count": 24,
     "metadata": {},
     "output_type": "execute_result"
    }
   ],
   "source": [
    "litter_df\n",
    "#del litter_df['Unnamed: 0']\n",
    "east_lit = litter_df.loc[litter_df['level_0'] == 'East Coast']\n",
    "west_lit = litter_df.loc[litter_df['level_0'] == 'West Coast']\n",
    "west_lit"
   ]
  },
  {
   "cell_type": "code",
   "execution_count": 54,
   "metadata": {},
   "outputs": [
    {
     "name": "stderr",
     "output_type": "stream",
     "text": [
      "C:\\Users\\chtho\\Anaconda3\\lib\\site-packages\\ipykernel_launcher.py:2: SettingWithCopyWarning: \n",
      "A value is trying to be set on a copy of a slice from a DataFrame.\n",
      "Try using .loc[row_indexer,col_indexer] = value instead\n",
      "\n",
      "See the caveats in the documentation: http://pandas.pydata.org/pandas-docs/stable/user_guide/indexing.html#returning-a-view-versus-a-copy\n",
      "  \n"
     ]
    }
   ],
   "source": [
    "east_data\n",
    "east_lit['State'] = ['AL', 'CT', 'DE', 'FL', 'GA', 'LA', 'ME', 'MD', 'MA', 'MS', 'NH', 'NJ', 'NY', 'NC', 'RI', 'SC', 'TX', 'VA']\n",
    "east_lit\n",
    "east_df = east_data.sort_values('State')\n",
    "east_litt = east_lit.sort_values('State')"
   ]
  },
  {
   "cell_type": "code",
   "execution_count": 87,
   "metadata": {
    "scrolled": true
   },
   "outputs": [
    {
     "data": {
      "image/png": "[encoded data removed]",
      "text/plain": [
       "<Figure size 432x288 with 1 Axes>"
      ]
     },
     "metadata": {
      "needs_background": "light"
     },
     "output_type": "display_data"
    }
   ],
   "source": [
    "labels = east_df['State']\n",
    "\n",
    "x = np.arange(len(labels))  # the label locations\n",
    "width = 0.25  # the width of the bars\n",
    "\n",
    "fig, ax = plt.subplots()\n",
    "rects1 = ax.bar(x - 3*width/4, east_df['2018'], width, label='GDP')\n",
    "rects2 = ax.bar(x + width/4, east_litt['Plastic Waste'], width, label='Plastic Waste')\n",
    "rects3 = ax.bar(x + 3*width/4, east_litt['Foam Waste'], width, label='Foam Waste')\n",
    "rects3 = ax.bar(x + 6*width/4, east_litt[\"Smoking Waste Items\"], width, label='Smoking Waste')\n",
    "\n",
    "# Add some text for labels, title and custom x-axis tick labels, etc.\n",
    "ax.set_ylabel('Waste in tons')\n",
    "ax.set_title('Top Wastes by State')\n",
    "ax.set_xticks(x)\n",
    "ax.set_xticklabels(labels)\n",
    "ax.legend()\n",
    "plt.show()"
   ]
  },
  {
   "cell_type": "code",
   "execution_count": 77,
   "metadata": {},
   "outputs": [],
   "source": [
    "# Open coastline CSV\n",
    "csv_file = pd.read_csv(\"https://media.githubusercontent.com/media/deirdrebclark/Project1/master/Resources/coastline.csv\", thousands=\",\")\n",
    "coast_df = pd.DataFrame(csv_file)\n",
    "\n",
    "# Format the coastline Dataframe\n",
    "coast_df.columns = ['State', 'Coastline']\n",
    "coast_df['Coastline'] = coast_df['Coastline'].str.strip(' mi')\n",
    "coast_df['Coastline'] = coast_df['Coastline'].str.replace(',' , '')\n",
    "coast_df['Coastline'] = coast_df['Coastline'].astype(int)\n",
    "coast_df = coast_df.sort_values('State')\n",
    "coast_df['State'] = ['AL', 'AK', 'CA', 'CT', 'DE', 'FL', 'GA', 'HI', 'LA', 'ME', 'MD', 'MA', 'MS', 'NH', 'NJ', 'NY', 'NC', 'OR', 'RI', 'SC', 'TX', 'VA', 'WA']"
   ]
  },
  {
   "cell_type": "code",
   "execution_count": 90,
   "metadata": {},
   "outputs": [
    {
     "data": {
      "text/html": [
       "<div>\n",
       "<style scoped>\n",
       "    .dataframe tbody tr th:only-of-type {\n",
       "        vertical-align: middle;\n",
       "    }\n",
       "\n",
       "    .dataframe tbody tr th {\n",
       "        vertical-align: top;\n",
       "    }\n",
       "\n",
       "    .dataframe thead th {\n",
       "        text-align: right;\n",
       "    }\n",
       "</style>\n",
       "<table border=\"1\" class=\"dataframe\">\n",
       "  <thead>\n",
       "    <tr style=\"text-align: right;\">\n",
       "      <th></th>\n",
       "      <th>State</th>\n",
       "      <th>Coastline</th>\n",
       "    </tr>\n",
       "  </thead>\n",
       "  <tbody>\n",
       "    <tr>\n",
       "      <th>17</th>\n",
       "      <td>AL</td>\n",
       "      <td>607</td>\n",
       "    </tr>\n",
       "    <tr>\n",
       "      <th>16</th>\n",
       "      <td>CT</td>\n",
       "      <td>618</td>\n",
       "    </tr>\n",
       "    <tr>\n",
       "      <th>21</th>\n",
       "      <td>DE</td>\n",
       "      <td>381</td>\n",
       "    </tr>\n",
       "    <tr>\n",
       "      <th>1</th>\n",
       "      <td>FL</td>\n",
       "      <td>8436</td>\n",
       "    </tr>\n",
       "    <tr>\n",
       "      <th>15</th>\n",
       "      <td>GA</td>\n",
       "      <td>2344</td>\n",
       "    </tr>\n",
       "    <tr>\n",
       "      <th>4</th>\n",
       "      <td>LA</td>\n",
       "      <td>7721</td>\n",
       "    </tr>\n",
       "    <tr>\n",
       "      <th>8</th>\n",
       "      <td>ME</td>\n",
       "      <td>3478</td>\n",
       "    </tr>\n",
       "    <tr>\n",
       "      <th>20</th>\n",
       "      <td>MD</td>\n",
       "      <td>3190</td>\n",
       "    </tr>\n",
       "    <tr>\n",
       "      <th>9</th>\n",
       "      <td>MA</td>\n",
       "      <td>1519</td>\n",
       "    </tr>\n",
       "    <tr>\n",
       "      <th>18</th>\n",
       "      <td>MS</td>\n",
       "      <td>359</td>\n",
       "    </tr>\n",
       "    <tr>\n",
       "      <th>22</th>\n",
       "      <td>NH</td>\n",
       "      <td>131</td>\n",
       "    </tr>\n",
       "    <tr>\n",
       "      <th>12</th>\n",
       "      <td>NJ</td>\n",
       "      <td>1792</td>\n",
       "    </tr>\n",
       "    <tr>\n",
       "      <th>13</th>\n",
       "      <td>NY</td>\n",
       "      <td>2625</td>\n",
       "    </tr>\n",
       "    <tr>\n",
       "      <th>6</th>\n",
       "      <td>NC</td>\n",
       "      <td>3375</td>\n",
       "    </tr>\n",
       "    <tr>\n",
       "      <th>19</th>\n",
       "      <td>RI</td>\n",
       "      <td>384</td>\n",
       "    </tr>\n",
       "    <tr>\n",
       "      <th>10</th>\n",
       "      <td>SC</td>\n",
       "      <td>2876</td>\n",
       "    </tr>\n",
       "    <tr>\n",
       "      <th>5</th>\n",
       "      <td>TX</td>\n",
       "      <td>3359</td>\n",
       "    </tr>\n",
       "    <tr>\n",
       "      <th>14</th>\n",
       "      <td>VA</td>\n",
       "      <td>3315</td>\n",
       "    </tr>\n",
       "  </tbody>\n",
       "</table>\n",
       "</div>"
      ],
      "text/plain": [
       "   State  Coastline\n",
       "17    AL        607\n",
       "16    CT        618\n",
       "21    DE        381\n",
       "1     FL       8436\n",
       "15    GA       2344\n",
       "4     LA       7721\n",
       "8     ME       3478\n",
       "20    MD       3190\n",
       "9     MA       1519\n",
       "18    MS        359\n",
       "22    NH        131\n",
       "12    NJ       1792\n",
       "13    NY       2625\n",
       "6     NC       3375\n",
       "19    RI        384\n",
       "10    SC       2876\n",
       "5     TX       3359\n",
       "14    VA       3315"
      ]
     },
     "execution_count": 90,
     "metadata": {},
     "output_type": "execute_result"
    }
   ],
   "source": [
    "east_state = ['AL', 'CT','DE','FL','GA','LA','ME','MD','MA','MS','NH','NJ','NY','NC','RI','SC','TX', 'VA']\n",
    "east_coast = coast_df[coast_df.State.isin(east_state)]\n",
    "east_coast"
   ]
  },
  {
   "cell_type": "code",
   "execution_count": 102,
   "metadata": {},
   "outputs": [
    {
     "data": {
      "image/png": "[encoded data removed]",
      "text/plain": [
       "<Figure size 432x288 with 1 Axes>"
      ]
     },
     "metadata": {
      "needs_background": "light"
     },
     "output_type": "display_data"
    }
   ],
   "source": [
    "# Barplot for coastline values\n",
    "labels = east_coast['State']\n",
    "\n",
    "x = np.arange(len(labels))  # the label locations\n",
    "width = 0.35  # the width of the bars\n",
    "\n",
    "fig, ax = plt.subplots()\n",
    "rects1 = ax.bar(x - width/2, east_coast['Coastline']/100, width, label='Coastline')\n",
    "rects2 = ax.bar(x + width/2, east_litt['Plastic Waste']/25000, width, label='Plastic Waste')\n",
    "\n",
    "# Add some text for labels, title and custom x-axis tick labels, etc.\n",
    "ax.set_ylabel('Normalized units')\n",
    "ax.set_title('Plastic Waste vs E. Coastline Amount')\n",
    "ax.set_xticks(x)\n",
    "ax.set_xticklabels(labels)\n",
    "ax.legend()\n",
    "plt.show()"
   ]
  },
  {
   "cell_type": "code",
   "execution_count": null,
   "metadata": {},
   "outputs": [],
   "source": []
  },
  {
   "cell_type": "code",
   "execution_count": null,
   "metadata": {},
   "outputs": [],
   "source": []
  }
 ],
 "metadata": {
  "kernelspec": {
   "display_name": "Python 3",
   "language": "python",
   "name": "python3"
  },
  "language_info": {
   "codemirror_mode": {
    "name": "ipython",
    "version": 3
   },
   "file_extension": ".py",
   "mimetype": "text/x-python",
   "name": "python",
   "nbconvert_exporter": "python",
   "pygments_lexer": "ipython3",
   "version": "3.7.4"
  }
 },
 "nbformat": 4,
 "nbformat_minor": 2
}
