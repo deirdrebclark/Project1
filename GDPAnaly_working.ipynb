{
 "cells": [
  {
   "cell_type": "code",
   "execution_count": 73,
   "metadata": {},
   "outputs": [],
   "source": [
    "# Dependencies and Setup\n",
    "import matplotlib.pyplot as plt\n",
    "import pandas as pd\n",
    "import numpy as np\n",
    "import requests\n",
    "import time\n",
    "from scipy.stats import linregress\n",
    "from pprint import pprint\n",
    "import json\n",
    "from scipy.stats import stats"
   ]
  },
  {
   "cell_type": "code",
   "execution_count": 2,
   "metadata": {},
   "outputs": [
    {
     "data": {
      "text/html": [
       "<div>\n",
       "<style scoped>\n",
       "    .dataframe tbody tr th:only-of-type {\n",
       "        vertical-align: middle;\n",
       "    }\n",
       "\n",
       "    .dataframe tbody tr th {\n",
       "        vertical-align: top;\n",
       "    }\n",
       "\n",
       "    .dataframe thead th {\n",
       "        text-align: right;\n",
       "    }\n",
       "</style>\n",
       "<table border=\"1\" class=\"dataframe\">\n",
       "  <thead>\n",
       "    <tr style=\"text-align: right;\">\n",
       "      <th></th>\n",
       "      <th>East Coast</th>\n",
       "      <th>West Coast</th>\n",
       "    </tr>\n",
       "  </thead>\n",
       "  <tbody>\n",
       "    <tr>\n",
       "      <th>2014</th>\n",
       "      <td>7.86439e+06</td>\n",
       "      <td>3.15962e+06</td>\n",
       "    </tr>\n",
       "    <tr>\n",
       "      <th>2015</th>\n",
       "      <td>8.15827e+06</td>\n",
       "      <td>3.36061e+06</td>\n",
       "    </tr>\n",
       "    <tr>\n",
       "      <th>2016</th>\n",
       "      <td>8.36352e+06</td>\n",
       "      <td>3.49941e+06</td>\n",
       "    </tr>\n",
       "    <tr>\n",
       "      <th>2017</th>\n",
       "      <td>8.72348e+06</td>\n",
       "      <td>3.71178e+06</td>\n",
       "    </tr>\n",
       "    <tr>\n",
       "      <th>2018</th>\n",
       "      <td>9.19033e+06</td>\n",
       "      <td>3.95188e+06</td>\n",
       "    </tr>\n",
       "  </tbody>\n",
       "</table>\n",
       "</div>"
      ],
      "text/plain": [
       "       East Coast   West Coast\n",
       "2014  7.86439e+06  3.15962e+06\n",
       "2015  8.15827e+06  3.36061e+06\n",
       "2016  8.36352e+06  3.49941e+06\n",
       "2017  8.72348e+06  3.71178e+06\n",
       "2018  9.19033e+06  3.95188e+06"
      ]
     },
     "execution_count": 2,
     "metadata": {},
     "output_type": "execute_result"
    }
   ],
   "source": [
    "# Read in the east coast GDP CSV\n",
    "csv_file = pd.read_csv('https://media.githubusercontent.com/media/deirdrebclark/Project1/master/output_data/GDP_East.csv', thousands=',')\n",
    "east_data = pd.DataFrame(csv_file)\n",
    "east_data\n",
    "east_data.columns = ['State', '2014', '2015', '2016', '2017', '2018']\n",
    "\n",
    "# Sum total of east coast GDP per year\n",
    "east_sum = east_data.sum()\n",
    "\n",
    "# Read in the west coast GDP CSV\n",
    "csv_file = pd.read_csv('https://media.githubusercontent.com/media/deirdrebclark/Project1/master/output_data/GDP_West.csv', thousands=',')\n",
    "west_data = pd.DataFrame(csv_file)\n",
    "west_data.columns = ['State', '2014', '2015', '2016', '2017', '2018']\n",
    "\n",
    "# Sum total of west coast GDP per year\n",
    "west_sum = west_data.sum()\n",
    "west_df = pd.DataFrame(west_sum)\n",
    "\n",
    "# Combine the two into a total GDP summary table\n",
    "sum_df = pd.DataFrame(east_sum)\n",
    "sum_df.columns = ['East Coast']\n",
    "sums_df = sum_df.join(west_df)\n",
    "sums_df.columns = ['East Coast', 'West Coast']\n",
    "sums_df = sums_df.T\n",
    "del sums_df['State']\n",
    "sums_df\n",
    "\n",
    "# Transform GDP Summary table for readability\n",
    "sums_df = sums_df.T\n",
    "sums_df"
   ]
  },
  {
   "cell_type": "code",
   "execution_count": 89,
   "metadata": {},
   "outputs": [
    {
     "data": {
      "image/png": "[encoded data removed]",
      "text/plain": [
       "<Figure size 432x288 with 1 Axes>"
      ]
     },
     "metadata": {
      "needs_background": "light"
     },
     "output_type": "display_data"
    }
   ],
   "source": [
    "# Summary East v West coast bar plot\n",
    "\n",
    "labels = ['2014', '2015', '2016', '2017', '2018']\n",
    "\n",
    "x = np.arange(len(labels))  # the label locations\n",
    "width = 0.35  # the width of the bars\n",
    "\n",
    "fig, ax = plt.subplots()\n",
    "rects1 = ax.bar(x - width/2, sums_df['East Coast'], width, label='East Coast')\n",
    "rects2 = ax.bar(x + width/2, sums_df['West Coast'], width, label='West Coast')\n",
    "\n",
    "# Add some text for labels, title and custom x-axis tick labels, etc.\n",
    "ax.set_ylabel('Total GDP in Millions of USD')\n",
    "ax.set_title('Summary of GDP on Each Coast by Year')\n",
    "ax.set_xticks(x)\n",
    "ax.set_xticklabels(labels)\n",
    "ax.legend()\n",
    "plt.savefig('summaryGDP.png')"
   ]
  },
  {
   "cell_type": "code",
   "execution_count": 4,
   "metadata": {},
   "outputs": [],
   "source": [
    "# Look at pollution data\n",
    "csv_file = pd.read_csv('https://media.githubusercontent.com/media/deirdrebclark/Project1/master/output_data/Bicoastal_Litter.csv')\n",
    "litter_df = pd.DataFrame(csv_file)"
   ]
  },
  {
   "cell_type": "code",
   "execution_count": 6,
   "metadata": {},
   "outputs": [
    {
     "data": {
      "text/html": [
       "<div>\n",
       "<style scoped>\n",
       "    .dataframe tbody tr th:only-of-type {\n",
       "        vertical-align: middle;\n",
       "    }\n",
       "\n",
       "    .dataframe tbody tr th {\n",
       "        vertical-align: top;\n",
       "    }\n",
       "\n",
       "    .dataframe thead th {\n",
       "        text-align: right;\n",
       "    }\n",
       "</style>\n",
       "<table border=\"1\" class=\"dataframe\">\n",
       "  <thead>\n",
       "    <tr style=\"text-align: right;\">\n",
       "      <th></th>\n",
       "      <th>level_0</th>\n",
       "      <th>State</th>\n",
       "      <th>Plastic Waste</th>\n",
       "      <th>Foam Waste</th>\n",
       "      <th>Fisherman's Waste</th>\n",
       "      <th>Smoking Waste Items</th>\n",
       "      <th>Misc Food Waste Items</th>\n",
       "      <th>Miscellaneous Waste Items</th>\n",
       "    </tr>\n",
       "  </thead>\n",
       "  <tbody>\n",
       "    <tr>\n",
       "      <th>0</th>\n",
       "      <td>West Coast</td>\n",
       "      <td>Alaska, USA</td>\n",
       "      <td>17089</td>\n",
       "      <td>17001</td>\n",
       "      <td>4451</td>\n",
       "      <td>11356</td>\n",
       "      <td>10504</td>\n",
       "      <td>13506.0</td>\n",
       "    </tr>\n",
       "    <tr>\n",
       "      <th>1</th>\n",
       "      <td>West Coast</td>\n",
       "      <td>California, USA</td>\n",
       "      <td>1513814</td>\n",
       "      <td>439899</td>\n",
       "      <td>45287</td>\n",
       "      <td>838130</td>\n",
       "      <td>646930</td>\n",
       "      <td>463359.0</td>\n",
       "    </tr>\n",
       "    <tr>\n",
       "      <th>2</th>\n",
       "      <td>West Coast</td>\n",
       "      <td>Hawaii, USA</td>\n",
       "      <td>162594</td>\n",
       "      <td>27640</td>\n",
       "      <td>22564</td>\n",
       "      <td>92206</td>\n",
       "      <td>44719</td>\n",
       "      <td>46293.0</td>\n",
       "    </tr>\n",
       "    <tr>\n",
       "      <th>3</th>\n",
       "      <td>West Coast</td>\n",
       "      <td>Oregon, USA</td>\n",
       "      <td>109147</td>\n",
       "      <td>23946</td>\n",
       "      <td>4098</td>\n",
       "      <td>29913</td>\n",
       "      <td>18316</td>\n",
       "      <td>14395.0</td>\n",
       "    </tr>\n",
       "    <tr>\n",
       "      <th>4</th>\n",
       "      <td>West Coast</td>\n",
       "      <td>Washington, USA</td>\n",
       "      <td>98557</td>\n",
       "      <td>40371</td>\n",
       "      <td>10013</td>\n",
       "      <td>67107</td>\n",
       "      <td>40412</td>\n",
       "      <td>41235.0</td>\n",
       "    </tr>\n",
       "  </tbody>\n",
       "</table>\n",
       "</div>"
      ],
      "text/plain": [
       "      level_0            State  Plastic Waste  Foam Waste  Fisherman's Waste  \\\n",
       "0  West Coast      Alaska, USA          17089       17001               4451   \n",
       "1  West Coast  California, USA        1513814      439899              45287   \n",
       "2  West Coast      Hawaii, USA         162594       27640              22564   \n",
       "3  West Coast      Oregon, USA         109147       23946               4098   \n",
       "4  West Coast  Washington, USA          98557       40371              10013   \n",
       "\n",
       "   Smoking Waste Items  Misc Food Waste Items  Miscellaneous Waste Items  \n",
       "0                11356                  10504                    13506.0  \n",
       "1               838130                 646930                   463359.0  \n",
       "2                92206                  44719                    46293.0  \n",
       "3                29913                  18316                    14395.0  \n",
       "4                67107                  40412                    41235.0  "
      ]
     },
     "execution_count": 6,
     "metadata": {},
     "output_type": "execute_result"
    }
   ],
   "source": [
    "litter_df\n",
    "del litter_df['Unnamed: 0']\n",
    "east_lit = litter_df.loc[litter_df['level_0'] == 'East Coast']\n",
    "west_lit = litter_df.loc[litter_df['level_0'] == 'West Coast']\n",
    "west_lit"
   ]
  },
  {
   "cell_type": "code",
   "execution_count": 60,
   "metadata": {},
   "outputs": [
    {
     "name": "stderr",
     "output_type": "stream",
     "text": [
      "C:\\Users\\chtho\\Anaconda3\\envs\\PythonData\\lib\\site-packages\\ipykernel_launcher.py:2: SettingWithCopyWarning: \n",
      "A value is trying to be set on a copy of a slice from a DataFrame.\n",
      "Try using .loc[row_indexer,col_indexer] = value instead\n",
      "\n",
      "See the caveats in the documentation: http://pandas.pydata.org/pandas-docs/stable/user_guide/indexing.html#returning-a-view-versus-a-copy\n",
      "  \n",
      "C:\\Users\\chtho\\Anaconda3\\envs\\PythonData\\lib\\site-packages\\ipykernel_launcher.py:8: SettingWithCopyWarning: \n",
      "A value is trying to be set on a copy of a slice from a DataFrame.\n",
      "Try using .loc[row_indexer,col_indexer] = value instead\n",
      "\n",
      "See the caveats in the documentation: http://pandas.pydata.org/pandas-docs/stable/user_guide/indexing.html#returning-a-view-versus-a-copy\n",
      "  \n"
     ]
    }
   ],
   "source": [
    "east_data\n",
    "east_lit['State'] = ['AL', 'CT', 'DE', 'FL', 'GA', 'LA', 'ME', 'MD', 'MA', 'MS', 'NH', 'NJ', 'NY', 'NC', 'RI', 'SC', 'TX', 'VA']\n",
    "east_lit\n",
    "east_df = east_data.sort_values('State').copy()\n",
    "east_litt = east_lit.sort_values('State').copy()\n",
    "\n",
    "west_data\n",
    "west_lit['State'] = ['AK', 'CA', 'HI', 'OR', 'WA']\n",
    "west_lit\n",
    "west_df = west_data.sort_values('State').copy()\n",
    "west_litt = west_lit.sort_values('State').copy()"
   ]
  },
  {
   "cell_type": "code",
   "execution_count": 61,
   "metadata": {},
   "outputs": [
    {
     "data": {
      "text/html": [
       "<div>\n",
       "<style scoped>\n",
       "    .dataframe tbody tr th:only-of-type {\n",
       "        vertical-align: middle;\n",
       "    }\n",
       "\n",
       "    .dataframe tbody tr th {\n",
       "        vertical-align: top;\n",
       "    }\n",
       "\n",
       "    .dataframe thead th {\n",
       "        text-align: right;\n",
       "    }\n",
       "</style>\n",
       "<table border=\"1\" class=\"dataframe\">\n",
       "  <thead>\n",
       "    <tr style=\"text-align: right;\">\n",
       "      <th></th>\n",
       "      <th>Total Pollution</th>\n",
       "      <th>State</th>\n",
       "    </tr>\n",
       "  </thead>\n",
       "  <tbody>\n",
       "    <tr>\n",
       "      <th>0</th>\n",
       "      <td>73907.0</td>\n",
       "      <td>AK</td>\n",
       "    </tr>\n",
       "    <tr>\n",
       "      <th>1</th>\n",
       "      <td>3947419.0</td>\n",
       "      <td>CA</td>\n",
       "    </tr>\n",
       "    <tr>\n",
       "      <th>2</th>\n",
       "      <td>396016.0</td>\n",
       "      <td>HI</td>\n",
       "    </tr>\n",
       "    <tr>\n",
       "      <th>3</th>\n",
       "      <td>199815.0</td>\n",
       "      <td>OR</td>\n",
       "    </tr>\n",
       "    <tr>\n",
       "      <th>4</th>\n",
       "      <td>297695.0</td>\n",
       "      <td>WA</td>\n",
       "    </tr>\n",
       "  </tbody>\n",
       "</table>\n",
       "</div>"
      ],
      "text/plain": [
       "   Total Pollution State\n",
       "0          73907.0    AK\n",
       "1        3947419.0    CA\n",
       "2         396016.0    HI\n",
       "3         199815.0    OR\n",
       "4         297695.0    WA"
      ]
     },
     "execution_count": 61,
     "metadata": {},
     "output_type": "execute_result"
    }
   ],
   "source": [
    "east_total_litter = pd.DataFrame(east_litt.sum(axis=1))\n",
    "east_total_litter = east_total_litter.join(east_litt['State'])\n",
    "east_total_litter.set_index(['State'])\n",
    "east_total_litter.columns = ['Total Pollution', 'State']\n",
    "\n",
    "west_total_litter = pd.DataFrame(west_litt.sum(axis=1))\n",
    "west_total_litter = west_total_litter.join(west_litt['State'])\n",
    "west_total_litter.set_index(['State'])\n",
    "west_total_litter.columns = ['Total Pollution', 'State']\n",
    "west_total_litter"
   ]
  },
  {
   "cell_type": "code",
   "execution_count": 90,
   "metadata": {
    "scrolled": true
   },
   "outputs": [
    {
     "data": {
      "image/png": "[encoded data removed]",
      "text/plain": [
       "<Figure size 432x288 with 1 Axes>"
      ]
     },
     "metadata": {
      "needs_background": "light"
     },
     "output_type": "display_data"
    }
   ],
   "source": [
    "labels = east_df['State']\n",
    "\n",
    "x = np.arange(len(labels))  # the label locations\n",
    "width = 0.25  # the width of the bars\n",
    "\n",
    "fig, ax = plt.subplots()\n",
    "rects1 = ax.bar(x - 3*width/4, east_df['2018'], width, label='GDP')\n",
    "rects2 = ax.bar(x + width/4, east_litt['Plastic Waste'], width, label='Plastic Waste')\n",
    "rects3 = ax.bar(x + 3*width/4, east_litt['Foam Waste'], width, label='Foam Waste')\n",
    "rects3 = ax.bar(x + 6*width/4, east_litt[\"Smoking Waste Items\"], width, label='Smoking Waste')\n",
    "\n",
    "# Add some text for labels, title and custom x-axis tick labels, etc.\n",
    "ax.set_ylabel('Waste in tons')\n",
    "ax.set_xlabel('State')\n",
    "ax.set_title('Top Wastes by State (East)')\n",
    "ax.set_xticks(x)\n",
    "ax.set_xticklabels(labels)\n",
    "ax.legend()\n",
    "plt.savefig('3polsVsGDP_east.png')"
   ]
  },
  {
   "cell_type": "code",
   "execution_count": 91,
   "metadata": {},
   "outputs": [
    {
     "data": {
      "image/png": "[encoded data removed]",
      "text/plain": [
       "<Figure size 432x288 with 1 Axes>"
      ]
     },
     "metadata": {
      "needs_background": "light"
     },
     "output_type": "display_data"
    }
   ],
   "source": [
    "labels = west_df['State']\n",
    "\n",
    "x = np.arange(len(labels))  # the label locations\n",
    "width = 0.25  # the width of the bars\n",
    "\n",
    "fig, ax = plt.subplots()\n",
    "rects1 = ax.bar(x - 3*width/4, west_df['2018'], width, label='GDP')\n",
    "rects2 = ax.bar(x + width/4, west_litt['Plastic Waste'], width, label='Plastic Waste')\n",
    "rects3 = ax.bar(x + 3*width/4, west_litt['Foam Waste'], width, label='Foam Waste')\n",
    "rects3 = ax.bar(x + 6*width/4, west_litt[\"Smoking Waste Items\"], width, label='Smoking Waste')\n",
    "\n",
    "# Add some text for labels, title and custom x-axis tick labels, etc.\n",
    "ax.set_ylabel('Waste in tons or GDP in millions')\n",
    "ax.set_xlabel('State')\n",
    "ax.set_title('Top Wastes by State (West)')\n",
    "ax.set_xticks(x)\n",
    "ax.set_xticklabels(labels)\n",
    "ax.legend()\n",
    "plt.savefig('3polsVsGDP_west.png')"
   ]
  },
  {
   "cell_type": "code",
   "execution_count": 9,
   "metadata": {},
   "outputs": [],
   "source": [
    "# Open coastline CSV\n",
    "csv_file = pd.read_csv(\"https://media.githubusercontent.com/media/deirdrebclark/Project1/master/Resources/coastline.csv\", thousands=\",\")\n",
    "coast_df = pd.DataFrame(csv_file)\n",
    "\n",
    "# Format the coastline Dataframe\n",
    "coast_df.columns = ['State', 'Coastline']\n",
    "coast_df['Coastline'] = coast_df['Coastline'].str.strip(' mi')\n",
    "coast_df['Coastline'] = coast_df['Coastline'].str.replace(',' , '')\n",
    "coast_df['Coastline'] = coast_df['Coastline'].astype(int)\n",
    "coast_df = coast_df.sort_values('State')\n",
    "coast_df['State'] = ['AL', 'AK', 'CA', 'CT', 'DE', 'FL', 'GA', 'HI', 'LA', 'ME', 'MD', 'MA', 'MS', 'NH', 'NJ', 'NY', 'NC', 'OR', 'RI', 'SC', 'TX', 'VA', 'WA']"
   ]
  },
  {
   "cell_type": "code",
   "execution_count": 65,
   "metadata": {},
   "outputs": [
    {
     "data": {
      "text/html": [
       "<div>\n",
       "<style scoped>\n",
       "    .dataframe tbody tr th:only-of-type {\n",
       "        vertical-align: middle;\n",
       "    }\n",
       "\n",
       "    .dataframe tbody tr th {\n",
       "        vertical-align: top;\n",
       "    }\n",
       "\n",
       "    .dataframe thead th {\n",
       "        text-align: right;\n",
       "    }\n",
       "</style>\n",
       "<table border=\"1\" class=\"dataframe\">\n",
       "  <thead>\n",
       "    <tr style=\"text-align: right;\">\n",
       "      <th></th>\n",
       "      <th>State</th>\n",
       "      <th>Coastline</th>\n",
       "    </tr>\n",
       "  </thead>\n",
       "  <tbody>\n",
       "    <tr>\n",
       "      <th>0</th>\n",
       "      <td>AK</td>\n",
       "      <td>33904</td>\n",
       "    </tr>\n",
       "    <tr>\n",
       "      <th>2</th>\n",
       "      <td>CA</td>\n",
       "      <td>3427</td>\n",
       "    </tr>\n",
       "    <tr>\n",
       "      <th>3</th>\n",
       "      <td>HI</td>\n",
       "      <td>1052</td>\n",
       "    </tr>\n",
       "    <tr>\n",
       "      <th>7</th>\n",
       "      <td>OR</td>\n",
       "      <td>1410</td>\n",
       "    </tr>\n",
       "    <tr>\n",
       "      <th>11</th>\n",
       "      <td>WA</td>\n",
       "      <td>3026</td>\n",
       "    </tr>\n",
       "  </tbody>\n",
       "</table>\n",
       "</div>"
      ],
      "text/plain": [
       "   State  Coastline\n",
       "0     AK      33904\n",
       "2     CA       3427\n",
       "3     HI       1052\n",
       "7     OR       1410\n",
       "11    WA       3026"
      ]
     },
     "execution_count": 65,
     "metadata": {},
     "output_type": "execute_result"
    }
   ],
   "source": [
    "east_state = ['AL', 'CT','DE','FL','GA','LA','ME','MD','MA','MS','NH','NJ','NY','NC','RI','SC','TX', 'VA']\n",
    "east_coast = coast_df[coast_df.State.isin(east_state)]\n",
    "\n",
    "west_state =  ['AK', 'CA', 'HI', 'OR', 'WA']\n",
    "west_coast = coast_df[coast_df.State.isin(west_state)]\n",
    "west_coast"
   ]
  },
  {
   "cell_type": "code",
   "execution_count": 92,
   "metadata": {},
   "outputs": [
    {
     "data": {
      "image/png": "[encoded data removed]",
      "text/plain": [
       "<Figure size 432x288 with 1 Axes>"
      ]
     },
     "metadata": {
      "needs_background": "light"
     },
     "output_type": "display_data"
    }
   ],
   "source": [
    "# Barplot for coastline values\n",
    "labels = east_coast['State']\n",
    "\n",
    "x = np.arange(len(labels))  # the label locations\n",
    "width = 0.35  # the width of the bars\n",
    "\n",
    "fig, ax = plt.subplots()\n",
    "rects1 = ax.bar(x - width/2, east_coast['Coastline']/100, width, label='Coastline')\n",
    "rects2 = ax.bar(x + width/2, east_total_litter['Total Pollution']/100000, width, label='Total Pollution')\n",
    "\n",
    "# Add some text for labels, title and custom x-axis tick labels, etc.\n",
    "ax.set_ylabel('Normalized units (per 100 mi or per 100k tons)')\n",
    "ax.set_title('Total Pollution vs E. Coastline Amount')\n",
    "ax.set_xticks(x)\n",
    "ax.set_xticklabels(labels)\n",
    "ax.legend()\n",
    "plt.savefig('coastline_east.png')"
   ]
  },
  {
   "cell_type": "code",
   "execution_count": 70,
   "metadata": {},
   "outputs": [
    {
     "data": {
      "image/png": "[encoded data removed]",
      "text/plain": [
       "<Figure size 432x288 with 1 Axes>"
      ]
     },
     "metadata": {
      "needs_background": "light"
     },
     "output_type": "display_data"
    }
   ],
   "source": [
    "# Barplot for coastline values\n",
    "labels = west_coast['State']\n",
    "\n",
    "x = np.arange(len(labels))  # the label locations\n",
    "width = 0.35  # the width of the bars\n",
    "\n",
    "fig, ax = plt.subplots()\n",
    "rects1 = ax.bar(x - width/2, west_coast['Coastline']/100, width, label='Coastline')\n",
    "rects2 = ax.bar(x + width/2, west_total_litter['Total Pollution']/100000, width, label='Total Pollution')\n",
    "\n",
    "# Add some text for labels, title and custom x-axis tick labels, etc.\n",
    "ax.set_ylabel('Normalized units (per 100 mi or per 100k tons)')\n",
    "ax.set_title('Total Pollution vs W. Coastline Amount')\n",
    "ax.set_xticks(x)\n",
    "ax.set_xticklabels(labels)\n",
    "ax.legend()\n",
    "plt.savefig('coastline_west.png')"
   ]
  },
  {
   "cell_type": "code",
   "execution_count": 88,
   "metadata": {},
   "outputs": [
    {
     "data": {
      "text/plain": [
       "F_onewayResult(statistic=0.9238457139685516, pvalue=0.42347054854659516)"
      ]
     },
     "execution_count": 88,
     "metadata": {},
     "output_type": "execute_result"
    }
   ],
   "source": [
    "stats.linregress(west_coast['Coastline'], west_total_litter['Total Pollution'])\n",
    "# rvalue=-0.25912315944531666\n",
    "stats.linregress(east_coast['Coastline'], east_total_litter['Total Pollution'])\n",
    "# rvalue=0.5543644933615807\n",
    "stats.linregress(west_df['2018'], west_total_litter['Total Pollution'])\n",
    "# rvalue=0.987650265665757 very strong correlation\n",
    "stats.linregress(east_df['2018'], east_total_litter['Total Pollution'])\n",
    "# rvalue=0.44829529090626186\n",
    "\n",
    "stats.ttest_ind(east_total_litter['Total Pollution'], west_total_litter['Total Pollution'])\n",
    "# pvalue=0.8510624099227789 not different\n",
    "stats.ttest_ind(east_df['2018'], west_df['2018'])\n",
    "# pvalue=0.4485761095948283 not different\n",
    "\n",
    "stats.f_oneway(east_df['2018'], east_coast['Coastline'], east_total_litter['Total Pollution'])\n",
    "# pvalue=0.0010412292719855817\n",
    "stats.ttest_ind(east_df['2018'], east_coast['Coastline'])\n",
    "# pvalue=0.0001969110170277953 significantly different; have nothing to do with one another\n",
    "stats.f_oneway(west_df['2018'], west_coast['Coastline'], west_total_litter['Total Pollution'])\n",
    "# pvalue=0.42347054854659516 not significantly different"
   ]
  },
  {
   "cell_type": "code",
   "execution_count": null,
   "metadata": {},
   "outputs": [],
   "source": []
  }
 ],
 "metadata": {
  "kernelspec": {
   "display_name": "Python [conda env:PythonData] *",
   "language": "python",
   "name": "conda-env-PythonData-py"
  },
  "language_info": {
   "codemirror_mode": {
    "name": "ipython",
    "version": 3
   },
   "file_extension": ".py",
   "mimetype": "text/x-python",
   "name": "python",
   "nbconvert_exporter": "python",
   "pygments_lexer": "ipython3",
   "version": "3.6.9"
  }
 },
 "nbformat": 4,
 "nbformat_minor": 2
}
